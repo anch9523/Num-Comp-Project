{
 "cells": [
  {
   "cell_type": "code",
   "execution_count": 1,
   "metadata": {},
   "outputs": [],
   "source": [
    "import word2vec"
   ]
  },
  {
   "cell_type": "code",
   "execution_count": 131,
   "metadata": {},
   "outputs": [
    {
     "name": "stdout",
     "output_type": "stream",
     "text": [
      "Running command: word2vec -train example/data/text8 -output example/data/text8.bin -size 50 -window 5 -sample 1e-3 -hs 0 -negative 5 -threads 12 -iter 5 -min-count 5 -alpha 0.025 -debug 2 -binary 1 -cbow 1\n",
      "Starting training using file example/data/text8\n",
      "Vocab size: 71291\n",
      "Words in train file: 16718843\n",
      "Alpha: 0.000002  Progress: 100.04%  Words/thread/sec: 410.84k   0.024835  Progress: 0.67%  Words/thread/sec: 378.90k  785  Progress: 0.87%  Words/thread/sec: 393.97k  ogress: 1.08%  Words/thread/sec: 386.50k   Progress: 1.24%  Words/thread/sec: 389.37k  : 1.28%  Words/thread/sec: 386.35k  ec: 395.48k  024375  Progress: 2.51%  Words/thread/sec: 401.80k    Words/thread/sec: 404.18k  ha: 0.024100  Progress: 3.61%  Words/thread/sec: 405.41k  ss: 4.58%  Words/thread/sec: 407.16k  /sec: 408.80k  0.023549  Progress: 5.82%  Words/thread/sec: 408.50k  3%  Words/thread/sec: 408.51k  Progress: 6.99%  Words/thread/sec: 410.50k   %  Words/thread/sec: 410.40k  086  Progress: 7.67%  Words/thread/sec: 409.18k    Words/thread/sec: 409.56k  .022799  Progress: 8.82%  Words/thread/sec: 409.42k  9.32%  Words/thread/sec: 409.65k  86%  Words/thread/sec: 409.52k  4  Progress: 10.36%  Words/thread/sec: 409.61k   0.022363  Progress: 10.56%  Words/thread/sec: 410.26k  rds/thread/sec: 410.57k  ds/thread/sec: 410.52k  1k  sec: 410.55k  read/sec: 409.83k  1.03k  24k  2k  .021391  Progress: 14.45%  Words/thread/sec: 410.62k  lpha: 0.021267  Progress: 14.95%  Words/thread/sec: 410.83k  5.37%  Words/thread/sec: 410.49k  2.01k  thread/sec: 412.26k  6  Progress: 16.99%  Words/thread/sec: 412.01k  sec: 412.00k  s/thread/sec: 412.70k  7  Progress: 18.02%  Words/thread/sec: 412.41k   412.10k  19.24%  Words/thread/sec: 412.14k  pha: 0.020023  Progress: 19.92%  Words/thread/sec: 412.41k  ogress: 20.40%  Words/thread/sec: 412.41k  5%  Words/thread/sec: 411.75k   0.019662  Progress: 21.36%  Words/thread/sec: 411.52k  ead/sec: 411.51k  ogress: 22.57%  Words/thread/sec: 411.31k  25k  ess: 23.72%  Words/thread/sec: 411.97k  ss: 23.99%  Words/thread/sec: 412.16k    Words/thread/sec: 411.17k  ad/sec: 411.28k  ogress: 25.61%  Words/thread/sec: 411.19k  06k  /sec: 411.30k   411.28k  11.14k  : 0.018142  Progress: 27.44%  Words/thread/sec: 411.31k  : 0.018015  Progress: 27.95%  Words/thread/sec: 410.63k  1  Progress: 28.49%  Words/thread/sec: 411.07k  ess: 29.01%  Words/thread/sec: 410.85k  ead/sec: 410.87k  ess: 30.07%  Words/thread/sec: 410.66k  36%  Words/thread/sec: 410.54k  k   30.77%  Words/thread/sec: 410.75k  a: 0.017270  Progress: 30.93%  Words/thread/sec: 410.99k  ds/thread/sec: 410.62k  2.37%  Words/thread/sec: 410.40k  .28k  46%  Words/thread/sec: 410.42k  d/sec: 410.95k  /thread/sec: 411.13k  61%  Words/thread/sec: 410.24k  35.13%  Words/thread/sec: 410.57k  gress: 35.63%  Words/thread/sec: 410.81k  hread/sec: 410.37k  ec: 410.52k  /thread/sec: 410.42k  6%  Words/thread/sec: 410.73k   0.015511  Progress: 37.97%  Words/thread/sec: 410.61k  ead/sec: 410.58k  ogress: 39.19%  Words/thread/sec: 410.61k  48k  thread/sec: 410.94k  ss: 40.70%  Words/thread/sec: 411.03k   ords/thread/sec: 410.63k  4374  Progress: 42.52%  Words/thread/sec: 410.58k  ec: 410.62k  s: 43.73%  Words/thread/sec: 410.51k  0.013967  Progress: 44.14%  Words/thread/sec: 410.98k  ad/sec: 410.56k  gress: 45.36%  Words/thread/sec: 410.18k  0k    Words/thread/sec: 410.20k  : 410.36k  hread/sec: 410.01k  : 0.013029  Progress: 47.90%  Words/thread/sec: 410.08k  gress: 48.47%  Words/thread/sec: 409.91k  5%  Words/thread/sec: 409.94k   Words/thread/sec: 410.06k  410.08k  lpha: 0.012410  Progress: 50.39%  Words/thread/sec: 410.08k  10.21k  hread/sec: 409.97k  81%  Words/thread/sec: 410.33k  thread/sec: 410.38k  s: 51.65%  Words/thread/sec: 409.97k  ha: 0.011976  Progress: 52.11%  Words/thread/sec: 410.03k  2.64%  Words/thread/sec: 410.22k  ogress: 53.22%  Words/thread/sec: 410.07k  09k    Words/thread/sec: 409.93k    Progress: 54.52%  Words/thread/sec: 409.87k   0.011255  Progress: 54.99%  Words/thread/sec: 409.90k  rogress: 55.55%  Words/thread/sec: 410.03k  thread/sec: 410.03k  6.61%  Words/thread/sec: 410.06k    Words/thread/sec: 410.42k  s: 57.30%  Words/thread/sec: 410.30k  rds/thread/sec: 410.12k  221  Progress: 59.13%  Words/thread/sec: 409.99k  c: 410.21k  : 0.009899  Progress: 60.42%  Words/thread/sec: 410.17k   Progress: 60.62%  Words/thread/sec: 410.10k  09.94k  .84%  Words/thread/sec: 410.02k  a: 0.009391  Progress: 62.45%  Words/thread/sec: 410.04k  241  Progress: 63.05%  Words/thread/sec: 409.95k  : 63.46%  Words/thread/sec: 410.21k  .009068  Progress: 63.88%  Words/thread/sec: 410.56k  d/sec: 410.29k  ress: 65.08%  Words/thread/sec: 410.31k  k   Words/thread/sec: 410.12k  008275  Progress: 66.91%  Words/thread/sec: 410.25k  ha: 0.008236  Progress: 67.13%  Words/thread/sec: 410.37k  10.32k   410.09k  sec: 410.18k  rogress: 68.33%  Words/thread/sec: 410.08k  ec: 410.17k    0.007512  Progress: 69.98%  Words/thread/sec: 410.11k  lpha: 0.007407  Progress: 70.51%  Words/thread/sec: 410.54k  ords/thread/sec: 410.22k  71.29%  Words/thread/sec: 410.25k   a: 0.006913  Progress: 72.36%  Words/thread/sec: 410.28k  : 72.93%  Words/thread/sec: 410.19k  006645  Progress: 73.43%  Words/thread/sec: 410.33k  rogress: 73.78%  Words/thread/sec: 410.34k  73.99%  Words/thread/sec: 410.44k    Words/thread/sec: 410.21k  .006338  Progress: 74.66%  Words/thread/sec: 410.10k  1%  Words/thread/sec: 409.97k   0.005998  Progress: 76.02%  Words/thread/sec: 409.99k  ead/sec: 409.91k  77.03%  Words/thread/sec: 410.19k  rogress: 77.23%  Words/thread/sec: 410.08k  .04k  4%  Words/thread/sec: 410.16k   0.005231  Progress: 79.09%  Words/thread/sec: 410.19k  ead/sec: 410.27k  ogress: 80.35%  Words/thread/sec: 410.14k  pha: 0.004810  Progress: 80.77%  Words/thread/sec: 410.20k  /thread/sec: 410.25k    Progress: 82.00%  Words/thread/sec: 410.20k  410.15k  3.21%  Words/thread/sec: 410.16k  77%  Words/thread/sec: 410.43k  39k  ss: 84.40%  Words/thread/sec: 410.18k   410.35k   ds/thread/sec: 410.45k  read/sec: 410.46k  48k  1k   88.05%  Words/thread/sec: 410.32k  8  Progress: 88.54%  Words/thread/sec: 410.35k  a: 0.002731  Progress: 89.09%  Words/thread/sec: 410.33k  rds/thread/sec: 410.46k  Progress: 89.97%  Words/thread/sec: 410.45k  rogress: 90.44%  Words/thread/sec: 410.52k  2243  Progress: 91.04%  Words/thread/sec: 410.26k  410.42k  2.33%  Words/thread/sec: 410.37k  ha: 0.001768  Progress: 92.95%  Words/thread/sec: 410.49k  thread/sec: 410.48k   Progress: 94.15%  Words/thread/sec: 410.56k  10.54k  .37%  Words/thread/sec: 410.51k  a: 0.001010  Progress: 95.97%  Words/thread/sec: 410.51k  hread/sec: 410.44k  Progress: 97.19%  Words/thread/sec: 410.31k  0.46k  41%  Words/thread/sec: 410.32k  : 0.000242  Progress: 99.05%  Words/thread/sec: 410.57k  ec: 410.57k  "
     ]
    }
   ],
   "source": [
    "# Setup - train model \n",
    "word2vec.word2vec('example/data/text8', 'example/data/text8.bin', size=50, binary=True, verbose=True)"
   ]
  },
  {
   "cell_type": "code",
   "execution_count": 132,
   "metadata": {},
   "outputs": [],
   "source": [
    "model = word2vec.load('example/data/text8.bin')"
   ]
  },
  {
   "cell_type": "code",
   "execution_count": 152,
   "metadata": {},
   "outputs": [
    {
     "name": "stdout",
     "output_type": "stream",
     "text": [
      "Correct answer is batman. Model did not recognize the word batwoman\n",
      "Correct answer is boy. Model guessed correctly.\n",
      "Correct answer is buck. Model guessed gen\n",
      "Correct answer is businessman. Model guessed lev\n",
      "Correct answer is dad. Model did not recognize the word chairwoman\n",
      "Correct answer is duke. Model guessed grand\n",
      "Correct answer is father. Model guessed correctly.\n",
      "Correct answer is fox. Model did not recognize the word fisherwoman\n",
      "Correct answer is god. Model did not recognize the word gentlewoman\n",
      "Correct answer is grandpa. Model guessed poulenc\n",
      "Correct answer is groom. Model guessed son\n",
      "Correct answer is heir. Model did not recognize the word headmistress\n",
      "Correct answer is hound. Model guessed spider\n",
      "Correct answer is king. Model guessed correctly.\n",
      "Correct answer is man. Model did not recognize the word lioness\n",
      "Correct answer is mister. Model did not recognize the word missis\n",
      "Correct answer is nephew. Model did not recognize the word murderess\n",
      "Correct answer is policeman. Model did not recognize the word policewoman\n",
      "Correct answer is ram. Model guessed fulani\n",
      "Correct answer is sculptor. Model did not recognize the word sculptress\n",
      "Correct answer is son. Model guessed correctly.\n",
      "Correct answer is stepfather. Model guessed drusilla\n",
      "Correct answer is tiger. Model did not recognize the word superwoman\n",
      "Correct answer is valet. Model did not recognize the word maidservant\n",
      "Correct answer is webmaster. Model did not recognize the word webmistress\n",
      "Accuracy rate:  16.0 %\n"
     ]
    }
   ],
   "source": [
    "import itertools\n",
    "\n",
    "countTotal = 0\n",
    "correctCount = 0\n",
    "incorrectCount = 0\n",
    "unrecognizedCount = 0\n",
    "\n",
    "# Change file name to run experiment on different analogy sets \n",
    "with open('./Bigger Analogy Test Set/3_Encyclopedic_semantics/E10 [male - female].txt') as file:\n",
    "    for line1,line2 in itertools.zip_longest(*[file]*2):\n",
    "        line1 = line1.split('\\t')\n",
    "        line2 = line2.split('\\t')\n",
    "        line1[1] = line1[1].split('/')\n",
    "        for i in range(len(line1[1])):\n",
    "            line1[1][i] = line1[1][i].rstrip()\n",
    "            if line1[1][i].__contains__('-'):\n",
    "                line1[1].pop(i)\n",
    "        line2[1] = line2[1].split('/')\n",
    "        for i in range(len(line2[1])):\n",
    "            line2[1][i] = line2[1][i].rstrip()\n",
    "            if line2[1][i].__contains__('-'):\n",
    "                line2[1].pop(i)\n",
    "        countTotal += 1\n",
    "        try:\n",
    "            line2[1].append(line1[0])\n",
    "            indexes, metrics = model.analogy(pos=line2[1], neg=line1[1])\n",
    "            if (model.vocab[indexes].__contains__(line2[0])):\n",
    "                correctCount += 1\n",
    "                print(\"Correct answer is \" + line2[0] + \". Model guessed correctly.\")\n",
    "            else:\n",
    "                incorrectCount += 1\n",
    "                print(\"Correct answer is \" + line2[0] + \". Model guessed \" + model.vocab[indexes][0])\n",
    "        except Exception as e:\n",
    "             unrecognizedCount += 1\n",
    "             print(\"Correct answer is \" + line2[0] + \". Model did not recognize the word \" + e.args[0])\n",
    "        #print(line1[0], line1[1], line2[0], line2[1])\n",
    "    print(\"Accuracy rate: \", correctCount/countTotal*100, \"%\")"
   ]
  },
  {
   "cell_type": "code",
   "execution_count": 153,
   "metadata": {},
   "outputs": [],
   "source": [
    "import pandas as pd"
   ]
  },
  {
   "cell_type": "code",
   "execution_count": 154,
   "metadata": {},
   "outputs": [
    {
     "data": {
      "image/png": "[encoded data removed]",
      "text/plain": [
       "<Figure size 432x288 with 1 Axes>"
      ]
     },
     "metadata": {
      "needs_background": "light"
     },
     "output_type": "display_data"
    }
   ],
   "source": [
    "df = pd.DataFrame({'Accuracy':['Accurate Guess', 'Related Guess', 'Incorrect Guess', 'Not Recognized'], 'Number of Guesses':[correctCount, 6, incorrectCount, unrecognizedCount]})\n",
    "ax = df.plot.bar(x='Accuracy', y='Number of Guesses', rot=0)"
   ]
  },
  {
   "attachments": {},
   "cell_type": "markdown",
   "metadata": {},
   "source": [
    "## Experiment Takeaways\n",
    "\n",
    "1. The model seems to perform much better on the **inflectional morphology** dataset. \n",
    "- This is likely an inherent quality of the word2vec model. \n",
    "- For context: **inflectional morphology** does not change the part of speech of a word, and is associated with relationships *between* words (ex. changing a verb from its singular form to plural form in order to match the subject of a sentence). In contrast, **derivational morphology** can often change the part of speech of a word, and is associated with semantic relationships *within* a word itself (ex. changing a verb to an adverb usually has no relationship to the rest of a sentence). [See this handout for more info.](http://websites.umich.edu/~jlawler/Inflection.pdf)\n",
    "- Because word2vec compares relationships *between* words, it seems inherently better suited to analyze these types of analogies. \n",
    "2. The impact of bias/variance can be seen in the results comparing accuracy across dimensional values. \n",
    "- In the case of 5-dimension vectors, the vectors are really too small to be of much use, resulting in extremely poor results (never scoring above 4% accuracy). The model is unable to distinguish relevant relationships between the words because the vectors are so small, resulting in a high degree of *bias*. Increasing the dimensions to 50 helps significantly, but issues still persist. \n",
    "- However, beyond about 1000-dimension vectors does not seem to increase the accuracy of the results and in fact seems to worsen the accuracy in certain cases. This is likely due to overfitting or *bias* with such large vectors. \n",
    "- Overall, anywhere from 500-1500 dimension vectors will likely provide a suitable model. \n",
    "3. The model's results are ***heavily*** dependent on the training data set. \n",
    "- Certain analogy sets were not usable because the words used did not appear in the training set, resulting in complete failure. \n",
    "- However, beyond just not including words in the training set, some relationships were indiscernable even if all words were in the training set. \n",
    "- An example of this is the UK city -> County data set, which associates cities in the UK with the county they are located in. The model recognized every word used in every analogy. However, the training set likely did not include any sentences indicating the relationship between these words as cities/counties, and thus the model was never able to get any of the analogies correct. \n",
    "- This has probably been discussed at length for machine learning algorithms in general, but still an important reminder that the biases present in the training data sets for these models will become very apparent when putting them into practice. Thus it is important to use a diverse and varied data set for these types of algorithms. \n"
   ]
  }
 ],
 "metadata": {
  "kernelspec": {
   "display_name": "Python 3 (ipykernel)",
   "language": "python",
   "name": "python3"
  },
  "language_info": {
   "codemirror_mode": {
    "name": "ipython",
    "version": 3
   },
   "file_extension": ".py",
   "mimetype": "text/x-python",
   "name": "python",
   "nbconvert_exporter": "python",
   "pygments_lexer": "ipython3",
   "version": "3.9.7"
  }
 },
 "nbformat": 4,
 "nbformat_minor": 2
}
