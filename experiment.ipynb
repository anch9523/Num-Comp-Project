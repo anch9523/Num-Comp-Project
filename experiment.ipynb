{
 "cells": [
  {
   "cell_type": "code",
   "execution_count": 14,
   "metadata": {},
   "outputs": [],
   "source": [
    "import word2vec"
   ]
  },
  {
   "cell_type": "code",
   "execution_count": 36,
   "metadata": {},
   "outputs": [
    {
     "name": "stdout",
     "output_type": "stream",
     "text": [
      "Running command: word2vec -train example/data/text8 -output example/data/text8.bin -size 1000 -window 5 -sample 1e-3 -hs 0 -negative 5 -threads 12 -iter 5 -min-count 5 -alpha 0.025 -debug 2 -binary 1 -cbow 1\n",
      "Starting training using file example/data/text8\n",
      "Vocab size: 71291\n",
      "Words in train file: 16718843\n",
      "Alpha: 0.000002  Progress: 100.03%  Words/thread/sec: 133.17k  thread/sec: 128.11k  d/sec: 117.26k  24794  Progress: 0.84%  Words/thread/sec: 124.35k   126.24k  a: 0.024763  Progress: 0.96%  Words/thread/sec: 122.85k  2k  24712  Progress: 1.16%  Words/thread/sec: 128.06k  lpha: 0.024686  Progress: 1.27%  Words/thread/sec: 126.04k  hread/sec: 128.89k  s/thread/sec: 128.47k   0.024636  Progress: 1.47%  Words/thread/sec: 128.88k  585  Progress: 1.67%  Words/thread/sec: 132.07k  6  Progress: 1.71%  Words/thread/sec: 127.14k  rogress: 1.88%  Words/thread/sec: 128.26k  1  Progress: 1.89%  Words/thread/sec: 128.21k  s: 2.08%  Words/thread/sec: 130.27k  k  8%  Words/thread/sec: 131.99k   0.024419  Progress: 2.33%  Words/thread/sec: 128.91k  rds/thread/sec: 129.55k  ad/sec: 130.81k  gress: 2.64%  Words/thread/sec: 129.73k  hread/sec: 131.10k  71%  Words/thread/sec: 131.23k  sec: 132.54k   Progress: 3.18%  Words/thread/sec: 132.26k  %  Words/thread/sec: 130.91k  d/sec: 131.44k  ess: 4.06%  Words/thread/sec: 131.40k  .14%  Words/thread/sec: 131.77k  c: 132.29k  31%  Words/thread/sec: 131.76k   Words/thread/sec: 132.02k  Progress: 4.38%  Words/thread/sec: 132.10k  /thread/sec: 132.02k  ress: 5.08%  Words/thread/sec: 131.63k  ss: 5.79%  Words/thread/sec: 132.58k  /sec: 132.54k  0.023246  Progress: 7.03%  Words/thread/sec: 132.93k  5  Progress: 7.23%  Words/thread/sec: 132.33k    Words/thread/sec: 132.70k  gress: 7.44%  Words/thread/sec: 132.28k  hread/sec: 132.68k   7.64%  Words/thread/sec: 132.95k  lpha: 0.023051  Progress: 7.81%  Words/thread/sec: 132.71k    Words/thread/sec: 132.48k  .80k   Progress: 9.08%  Words/thread/sec: 132.54k  /thread/sec: 132.62k  ds/thread/sec: 132.77k  thread/sec: 132.73k  gress: 10.71%  Words/thread/sec: 132.83k  /thread/sec: 132.64k  22274  Progress: 10.92%  Words/thread/sec: 132.88k    132.60k  hread/sec: 132.71k  2.24%  Words/thread/sec: 132.71k  1793  Progress: 12.84%  Words/thread/sec: 132.68k  32.68k  0k  hread/sec: 132.83k  1471  Progress: 14.13%  Words/thread/sec: 133.19k  gress: 14.33%  Words/thread/sec: 133.22k  c: 132.76k  2k  /thread/sec: 133.05k    Progress: 15.06%  Words/thread/sec: 133.41k   132.97k  16.38%  Words/thread/sec: 133.04k  pha: 0.020756  Progress: 16.99%  Words/thread/sec: 133.01k  sec: 133.00k  3.18k  ds/thread/sec: 133.34k  thread/sec: 133.08k  7.80%  Words/thread/sec: 133.54k  rogress: 18.00%  Words/thread/sec: 133.01k  .03k  2%  Words/thread/sec: 133.06k   0.020040  Progress: 19.86%  Words/thread/sec: 133.32k  ead/sec: 133.39k  s/thread/sec: 133.57k   Words/thread/sec: 133.73k  ess: 20.86%  Words/thread/sec: 133.56k  s: 20.93%  Words/thread/sec: 133.21k  d/sec: 133.48k  ds/thread/sec: 133.30k  20  Progress: 21.13%  Words/thread/sec: 133.37k  read/sec: 133.40k  0.019500  Progress: 22.01%  Words/thread/sec: 133.18k  019316  Progress: 22.75%  Words/thread/sec: 133.18k  /sec: 133.70k  a: 0.019018  Progress: 23.94%  Words/thread/sec: 133.55k  ress: 23.97%  Words/thread/sec: 133.67k  04%  Words/thread/sec: 133.60k  8960  Progress: 24.17%  Words/thread/sec: 133.45k  ead/sec: 133.71k  lpha: 0.018909  Progress: 24.38%  Words/thread/sec: 133.69k  read/sec: 133.48k  33.21k  /sec: 133.35k  605  Progress: 25.59%  Words/thread/sec: 133.58k  c: 133.44k  : 26.80%  Words/thread/sec: 133.41k  018187  Progress: 27.26%  Words/thread/sec: 133.40k     Progress: 27.55%  Words/thread/sec: 133.46k  : 133.18k  a: 0.018076  Progress: 27.71%  Words/thread/sec: 133.44k  thread/sec: 133.38k   : 133.21k  : 0.017770  Progress: 28.93%  Words/thread/sec: 133.04k  48%  Words/thread/sec: 133.28k  492  Progress: 30.04%  Words/thread/sec: 133.09k  68  Progress: 30.54%  Words/thread/sec: 133.21k   133.04k  ad/sec: 133.29k  0.017285  Progress: 30.87%  Words/thread/sec: 133.43k  .05%  Words/thread/sec: 133.01k  rds/thread/sec: 133.15k  ogress: 31.25%  Words/thread/sec: 133.20k  d/sec: 132.98k  3.18k    Progress: 32.87%  Words/thread/sec: 133.10k  016655  Progress: 33.39%  Words/thread/sec: 133.12k  ords/thread/sec: 133.16k  34.08%  Words/thread/sec: 133.06k  rogress: 34.29%  Words/thread/sec: 133.24k  /sec: 133.01k  .016380  Progress: 34.49%  Words/thread/sec: 133.31k  33.16k   0.016150  Progress: 35.41%  Words/thread/sec: 133.25k  026  Progress: 35.91%  Words/thread/sec: 132.96k  c: 132.89k  : 37.13%  Words/thread/sec: 132.89k   Progress: 37.32%  Words/thread/sec: 133.14k  s: 37.26%  Words/thread/sec: 133.18k   Words/thread/sec: 133.21k  : 0.015619  Progress: 37.54%  Words/thread/sec: 132.87k  ead/sec: 133.05k  6k  k  sec: 133.08k  s/thread/sec: 132.91k  0  Progress: 38.29%  Words/thread/sec: 132.89k  15  Progress: 38.75%  Words/thread/sec: 132.92k  k  hread/sec: 132.92k  : 40.04%  Words/thread/sec: 132.96k  s: 40.63%  Words/thread/sec: 133.00k  : 0.014846  Progress: 40.71%  Words/thread/sec: 133.10k  133.08k  ead/sec: 133.18k  : 41.27%  Words/thread/sec: 132.92k   Words/thread/sec: 133.01k  s: 41.47%  Words/thread/sec: 133.04k  rds/thread/sec: 132.97k  2.89%  Words/thread/sec: 133.11k  14182  Progress: 43.29%  Words/thread/sec: 132.92k  4%  Words/thread/sec: 132.90k  pha: 0.014073  Progress: 43.72%  Words/thread/sec: 132.84k  /sec: 132.91k  ds/thread/sec: 132.85k  7k  4.31%  Words/thread/sec: 132.94k  ords/thread/sec: 132.98k  rogress: 44.52%  Words/thread/sec: 133.06k  013823  Progress: 44.72%  Words/thread/sec: 132.85k  /sec: 132.95k  133.02k  gress: 45.28%  Words/thread/sec: 133.03k  read/sec: 133.09k   Words/thread/sec: 132.88k  5.69%  Words/thread/sec: 132.91k  %  Words/thread/sec: 133.04k  133.03k  ords/thread/sec: 132.90k    Words/thread/sec: 132.95k  rogress: 47.39%  Words/thread/sec: 133.01k  132.81k  .013115  Progress: 47.55%  Words/thread/sec: 132.99k   47.94%  Words/thread/sec: 132.83k   132.86k  a: 0.012968  Progress: 48.14%  Words/thread/sec: 132.94k  hread/sec: 132.97k  ha: 0.012847  Progress: 48.63%  Words/thread/sec: 132.98k  012755  Progress: 48.99%  Words/thread/sec: 132.80k   Words/thread/sec: 132.80k  ess: 49.97%  Words/thread/sec: 132.90k  012355  Progress: 50.71%  Words/thread/sec: 133.01k  /thread/sec: 132.78k  rogress: 50.86%  Words/thread/sec: 132.99k  /sec: 132.91k  ds/thread/sec: 133.01k  Progress: 51.39%  Words/thread/sec: 132.78k   0.012133  Progress: 51.48%  Words/thread/sec: 132.96k  0.012107  Progress: 51.58%  Words/thread/sec: 132.85k  Progress: 51.60%  Words/thread/sec: 132.89k  k  s: 52.60%  Words/thread/sec: 132.79k  132.79k  a: 0.011588  Progress: 53.66%  Words/thread/sec: 132.76k  ess: 53.93%  Words/thread/sec: 132.89k    Words/thread/sec: 132.77k  79k  %  Words/thread/sec: 132.78k  54.61%  Words/thread/sec: 132.93k  345  Progress: 54.63%  Words/thread/sec: 132.99k    Progress: 54.81%  Words/thread/sec: 132.97k  lpha: 0.011294  Progress: 54.84%  Words/thread/sec: 132.83k  c: 132.88k  32.89k  rds/thread/sec: 132.99k  991  Progress: 56.05%  Words/thread/sec: 132.96k  c: 133.06k  read/sec: 133.09k   Progress: 57.47%  Words/thread/sec: 133.11k  65%  Words/thread/sec: 133.13k   0.010584  Progress: 57.67%  Words/thread/sec: 133.16k  Progress: 57.74%  Words/thread/sec: 133.05k  k   Words/thread/sec: 133.07k  010230  Progress: 59.09%  Words/thread/sec: 133.14k  /sec: 133.19k  ess: 60.37%  Words/thread/sec: 133.23k  ress: 60.68%  Words/thread/sec: 133.29k  a: 0.009806  Progress: 60.79%  Words/thread/sec: 133.16k  ad/sec: 133.27k  ha: 0.009778  Progress: 60.90%  Words/thread/sec: 133.36k  .25k  1.04%  Words/thread/sec: 133.34k  d/sec: 133.34k  rds/thread/sec: 133.28k  ords/thread/sec: 133.21k  Words/thread/sec: 133.25k  428  Progress: 62.30%  Words/thread/sec: 133.14k    ss: 63.22%  Words/thread/sec: 133.13k    133.24k  : 64.05%  Words/thread/sec: 133.21k  hread/sec: 133.25k    Words/thread/sec: 133.09k  s: 64.64%  Words/thread/sec: 133.17k  08734  Progress: 65.09%  Words/thread/sec: 133.11k  ad/sec: 133.01k  : 0.008443  Progress: 66.24%  Words/thread/sec: 133.12k  ha: 0.008335  Progress: 66.67%  Words/thread/sec: 133.05k  thread/sec: 133.03k  0.008185  Progress: 67.30%  Words/thread/sec: 133.07k  7%  Words/thread/sec: 132.97k  92k  ec: 132.96k  gress: 67.68%  Words/thread/sec: 133.00k  8  Progress: 67.78%  Words/thread/sec: 132.95k  08032  Progress: 67.88%  Words/thread/sec: 132.86k  90k  870  Progress: 68.53%  Words/thread/sec: 132.89k  Words/thread/sec: 132.85k  a: 0.007627  Progress: 69.50%  Words/thread/sec: 132.92k  hread/sec: 132.91k  c: 132.94k   Progress: 70.73%  Words/thread/sec: 133.03k  ead/sec: 132.87k   0.007273  Progress: 70.92%  Words/thread/sec: 132.84k  ss: 70.96%  Words/thread/sec: 132.88k  k  3  Progress: 71.20%  Words/thread/sec: 132.82k  ec: 132.94k  s: 71.93%  Words/thread/sec: 132.93k  rds/thread/sec: 132.94k  566  Progress: 73.75%  Words/thread/sec: 132.94k  ha: 0.006525  Progress: 73.97%  Words/thread/sec: 132.95k  96k  06464  Progress: 74.16%  Words/thread/sec: 132.98k  /sec: 133.01k  ds/thread/sec: 132.90k  .006275  Progress: 74.91%  Words/thread/sec: 132.96k  rds/thread/sec: 132.87k  k  : 76.38%  Words/thread/sec: 132.89k  d/sec: 132.88k  rds/thread/sec: 132.96k  7.80%  Words/thread/sec: 133.02k  ogress: 78.01%  Words/thread/sec: 132.91k  03k  %  Words/thread/sec: 133.00k    Progress: 79.67%  Words/thread/sec: 133.00k  133.02k  ha: 0.004839  Progress: 80.76%  Words/thread/sec: 133.02k  9  Progress: 80.77%  Words/thread/sec: 133.03k   80.94%  Words/thread/sec: 133.02k  2.95k   Progress: 81.14%  Words/thread/sec: 132.87k  0.004665  Progress: 81.35%  Words/thread/sec: 132.94k  : 0.004649  Progress: 81.41%  Words/thread/sec: 132.90k  ss: 81.93%  Words/thread/sec: 132.88k   Progress: 82.45%  Words/thread/sec: 132.94k  6%  Words/thread/sec: 132.87k  83.43%  Words/thread/sec: 132.87k  : 132.87k  6  Progress: 84.19%  Words/thread/sec: 132.91k  a: 0.003905  Progress: 84.39%  Words/thread/sec: 132.98k  1k  95k  ead/sec: 132.88k  ress: 85.13%  Words/thread/sec: 132.95k   0.003551  Progress: 85.81%  Words/thread/sec: 132.94k  ead/sec: 133.02k  ogress: 87.02%  Words/thread/sec: 133.01k  90k  %  Words/thread/sec: 132.93k  s: 88.74%  Words/thread/sec: 132.99k  /thread/sec: 133.04k  ss: 89.56%  Words/thread/sec: 133.03k  ogress: 90.06%  Words/thread/sec: 132.96k  lpha: 0.002357  Progress: 90.58%  Words/thread/sec: 132.98k  002275  Progress: 90.91%  Words/thread/sec: 133.06k  : 132.93k  .002084  Progress: 91.68%  Words/thread/sec: 133.06k  : 0.002033  Progress: 91.88%  Words/thread/sec: 132.94k  k    Words/thread/sec: 133.02k  ec: 133.05k  /thread/sec: 132.96k  01826  Progress: 92.71%  Words/thread/sec: 133.03k  ha: 0.001702  Progress: 93.21%  Words/thread/sec: 133.03k  %  Words/thread/sec: 132.96k  %  Words/thread/sec: 132.97k   94.32%  Words/thread/sec: 133.02k  001325  Progress: 94.71%  Words/thread/sec: 132.95k  3.04k  ds/thread/sec: 132.97k  ress: 95.92%  Words/thread/sec: 132.94k  a: 0.000920  Progress: 96.33%  Words/thread/sec: 133.02k  8  Progress: 96.78%  Words/thread/sec: 133.00k   Words/thread/sec: 133.02k  ess: 97.58%  Words/thread/sec: 132.92k  .000507  Progress: 97.98%  Words/thread/sec: 133.03k  thread/sec: 133.00k  8.77%  Words/thread/sec: 133.05k  ress: 99.04%  Words/thread/sec: 133.01k  107  Progress: 99.60%  Words/thread/sec: 133.00k  33.13k  "
     ]
    }
   ],
   "source": [
    "# Setup - train model \n",
    "word2vec.word2vec('example/data/text8', 'example/data/text8.bin', size=1000, binary=True, verbose=True)"
   ]
  },
  {
   "cell_type": "code",
   "execution_count": 37,
   "metadata": {},
   "outputs": [],
   "source": [
    "model = word2vec.load('example/data/text8.bin')"
   ]
  },
  {
   "cell_type": "code",
   "execution_count": 42,
   "metadata": {},
   "outputs": [
    {
     "name": "stdout",
     "output_type": "stream",
     "text": [
      "Correct answer is add. Model guessed correctly.\n",
      "Correct answer is appear. Model guessed correctly.\n",
      "Correct answer is ask. Model guessed correctly.\n",
      "Correct answer is avoid. Model guessed correctly.\n",
      "Correct answer is believe. Model guessed asserted\n",
      "Correct answer is contain. Model guessed correctly.\n",
      "Correct answer is create. Model guessed correctly.\n",
      "Correct answer is encourage. Model guessed correctly.\n",
      "Correct answer is ensure. Model guessed correctly.\n",
      "Correct answer is exist. Model guessed adapt\n",
      "Correct answer is follow. Model guessed correctly.\n",
      "Correct answer is identify. Model guessed correctly.\n",
      "Correct answer is include. Model guessed correctly.\n",
      "Correct answer is learn. Model guessed correctly.\n",
      "Correct answer is maintain. Model guessed correctly.\n",
      "Correct answer is operate. Model guessed connect\n",
      "Correct answer is prevent. Model guessed correctly.\n",
      "Correct answer is protect. Model guessed correctly.\n",
      "Correct answer is receive. Model guessed correctly.\n",
      "Correct answer is refer. Model guessed correctly.\n",
      "Correct answer is remember. Model guessed criticize\n",
      "Correct answer is require. Model guessed correctly.\n",
      "Correct answer is sit. Model guessed correctly.\n",
      "Correct answer is teach. Model guessed correctly.\n",
      "Correct answer is understand. Model guessed correctly.\n",
      "Accuracy rate:  84.0 %\n"
     ]
    }
   ],
   "source": [
    "import itertools\n",
    "\n",
    "countTotal = 0\n",
    "correctCount = 0\n",
    "\n",
    "with open('./Bigger Analogy Test Set/1_Inflectional_morphology/I06 [verb_inf - Ving].txt') as file:\n",
    "    for line1,line2 in itertools.zip_longest(*[file]*2):\n",
    "        line1 = line1.split('\\t')\n",
    "        line2 = line2.split('\\t')\n",
    "        line1[1] = line1[1].rstrip()\n",
    "        line2[1] = line2[1].rstrip()\n",
    "        countTotal += 1\n",
    "        try:\n",
    "            indexes, metrics = model.analogy(pos=[line1[0], line2[1]], neg=[line1[1]])\n",
    "            if (model.vocab[indexes].__contains__(line2[0])):\n",
    "                correctCount += 1\n",
    "                print(\"Correct answer is \" + line2[0] + \". Model guessed correctly.\")\n",
    "            else:\n",
    "                print(\"Correct answer is \" + line2[0] + \". Model guessed \" + model.vocab[indexes][0])\n",
    "        except:\n",
    "             print(\"Correct answer is \" + line2[0] + \". Model did not recognize a word in analogy.\")\n",
    "        #print(line1[0], line1[1], line2[0], line2[1])\n",
    "    print(\"Accuracy rate: \", correctCount/countTotal*100, \"%\")"
   ]
  },
  {
   "cell_type": "code",
   "execution_count": 1,
   "metadata": {},
   "outputs": [],
   "source": [
    "import pandas as pd"
   ]
  },
  {
   "cell_type": "code",
   "execution_count": 7,
   "metadata": {},
   "outputs": [
    {
     "data": {
      "image/png": "[encoded data removed]",
      "text/plain": [
       "<Figure size 432x288 with 1 Axes>"
      ]
     },
     "metadata": {
      "needs_background": "light"
     },
     "output_type": "display_data"
    }
   ],
   "source": [
    "df = pd.DataFrame({'Accuracy':['Accurate Guess', 'Related Guess', 'Incorrect Guess', 'Not Recognized'], 'Number of Guesses':[2, 6, 28, 6]})\n",
    "ax = df.plot.bar(x='Accuracy', y='Number of Guesses', rot=0)"
   ]
  },
  {
   "cell_type": "code",
   "execution_count": null,
   "metadata": {},
   "outputs": [],
   "source": []
  }
 ],
 "metadata": {
  "kernelspec": {
   "display_name": "Python 3 (ipykernel)",
   "language": "python",
   "name": "python3"
  },
  "language_info": {
   "codemirror_mode": {
    "name": "ipython",
    "version": 3
   },
   "file_extension": ".py",
   "mimetype": "text/x-python",
   "name": "python",
   "nbconvert_exporter": "python",
   "pygments_lexer": "ipython3",
   "version": "3.9.7"
  }
 },
 "nbformat": 4,
 "nbformat_minor": 2
}
