{
 "cells": [
  {
   "cell_type": "code",
   "execution_count": 2,
   "metadata": {},
   "outputs": [],
   "source": [
    "import word2vec"
   ]
  },
  {
   "cell_type": "code",
   "execution_count": 3,
   "metadata": {},
   "outputs": [
    {
     "name": "stdout",
     "output_type": "stream",
     "text": [
      "Running command: word2vec -train example/data/text8 -output example/data/text8.bin -size 500 -window 5 -sample 1e-3 -hs 0 -negative 5 -threads 12 -iter 5 -min-count 5 -alpha 0.025 -debug 2 -binary 1 -cbow 1\n",
      "Starting training using file example/data/text8\n",
      "Vocab size: 71291\n",
      "Words in train file: 16718843\n",
      "Alpha: 0.000002  Progress: 100.02%  Words/thread/sec: 198.66k  .34%  Words/thread/sec: 156.34k   Words/thread/sec: 180.55k  thread/sec: 192.75k  d/sec: 194.20k  /sec: 182.08k  3%  Words/thread/sec: 188.88k  190.85k    .48%  Words/thread/sec: 194.94k  ha: 0.024610  Progress: 1.57%  Words/thread/sec: 189.98k  24560  Progress: 1.77%  Words/thread/sec: 195.21k   195.00k   Progress: 1.98%  Words/thread/sec: 198.31k  ress: 2.08%  Words/thread/sec: 194.99k  ess: 2.18%  Words/thread/sec: 193.64k  ead/sec: 196.05k  read/sec: 198.10k  2.39%  Words/thread/sec: 196.53k  4343  Progress: 2.64%  Words/thread/sec: 194.84k  .024324  Progress: 2.72%  Words/thread/sec: 197.83k  thread/sec: 194.66k  ress: 2.90%  Words/thread/sec: 198.89k  /sec: 196.94k    Progress: 3.05%  Words/thread/sec: 199.32k  Progress: 3.55%  Words/thread/sec: 196.33k  98  Progress: 4.42%  Words/thread/sec: 199.16k  sec: 198.83k  hread/sec: 199.06k  gress: 5.99%  Words/thread/sec: 199.44k  Words/thread/sec: 199.34k  hread/sec: 199.78k  Progress: 6.43%  Words/thread/sec: 199.29k  sec: 198.55k  .023221  Progress: 7.13%  Words/thread/sec: 199.38k  %  Words/thread/sec: 199.55k  9.72k    Progress: 8.98%  Words/thread/sec: 199.61k  9%  Words/thread/sec: 199.49k  ds/thread/sec: 199.55k  .66%  Words/thread/sec: 199.32k  : 200.10k  read/sec: 199.77k  Words/thread/sec: 199.67k  %  Words/thread/sec: 199.88k  0.022249  Progress: 11.02%  Words/thread/sec: 199.70k  ogress: 11.54%  Words/thread/sec: 199.69k  .021987  Progress: 12.06%  Words/thread/sec: 200.39k  83k  12.87%  Words/thread/sec: 199.45k  021768  Progress: 12.94%  Words/thread/sec: 200.07k  3%  Words/thread/sec: 199.56k   Words/thread/sec: 200.08k  ords/thread/sec: 199.94k  13.40%  Words/thread/sec: 199.97k   13.44%  Words/thread/sec: 200.34k  Words/thread/sec: 200.43k  Words/thread/sec: 199.89k  15.03%  Words/thread/sec: 199.81k   Words/thread/sec: 200.00k  1%  Words/thread/sec: 200.20k   Words/thread/sec: 200.57k  : 199.79k  ss: 16.48%  Words/thread/sec: 199.87k   0.020854  Progress: 16.60%  Words/thread/sec: 200.56k  32  Progress: 16.69%  Words/thread/sec: 200.05k  ress: 17.22%  Words/thread/sec: 200.60k   17.90%  Words/thread/sec: 199.92k  lpha: 0.020374  Progress: 18.51%  Words/thread/sec: 199.94k  s/thread/sec: 199.75k  ess: 19.53%  Words/thread/sec: 199.73k  62  Progress: 19.76%  Words/thread/sec: 200.42k  : 200.23k  ha: 0.020000  Progress: 20.01%  Words/thread/sec: 199.98k  thread/sec: 200.25k   Progress: 21.24%  Words/thread/sec: 200.03k  00.18k  .44%  Words/thread/sec: 200.00k  s/thread/sec: 200.03k  9319  Progress: 22.78%  Words/thread/sec: 199.98k   Words/thread/sec: 199.63k  : 0.019261  Progress: 22.97%  Words/thread/sec: 199.89k  : 23.16%  Words/thread/sec: 199.97k  199.80k   23.66%  Words/thread/sec: 200.23k  Progress: 24.12%  Words/thread/sec: 200.20k  ha: 0.018835  Progress: 24.67%  Words/thread/sec: 199.68k  18689  Progress: 25.26%  Words/thread/sec: 199.55k    Words/thread/sec: 199.74k  ss: 26.13%  Words/thread/sec: 199.89k   199.74k  /thread/sec: 199.54k  hread/sec: 200.06k  ha: 0.018369  Progress: 26.54%  Words/thread/sec: 199.45k  %  Words/thread/sec: 199.56k  Progress: 27.14%  Words/thread/sec: 199.47k  6k  8.32%  Words/thread/sec: 199.56k  ha: 0.017770  Progress: 28.93%  Words/thread/sec: 199.57k  rogress: 29.47%  Words/thread/sec: 199.59k  /thread/sec: 199.09k  read/sec: 199.31k  74%  Words/thread/sec: 199.38k  88%  Words/thread/sec: 199.26k  gress: 29.94%  Words/thread/sec: 199.61k  1k    Words/thread/sec: 199.36k  .017062  Progress: 31.76%  Words/thread/sec: 199.20k  d/sec: 199.21k  s: 32.82%  Words/thread/sec: 199.46k  gress: 32.97%  Words/thread/sec: 199.30k  hread/sec: 199.23k    Progress: 33.17%  Words/thread/sec: 198.96k  016709  Progress: 33.18%  Words/thread/sec: 198.92k  3.96%  Words/thread/sec: 198.95k  read/sec: 199.08k   199.13k   198.90k  .015949  Progress: 36.23%  Words/thread/sec: 198.80k  03k   36.37%  Words/thread/sec: 198.77k    : 199.03k  ec: 198.62k  198.59k  536  Progress: 37.87%  Words/thread/sec: 198.50k  65%  Words/thread/sec: 198.54k  : 0.015187  Progress: 39.27%  Words/thread/sec: 198.49k  k  c: 198.44k  thread/sec: 198.64k   Progress: 40.56%  Words/thread/sec: 198.69k  98.64k  .78%  Words/thread/sec: 198.65k  a: 0.014405  Progress: 42.39%  Words/thread/sec: 198.56k  c: 198.45k  8.33k  /thread/sec: 198.52k  0%  Words/thread/sec: 198.64k  ess: 43.40%  Words/thread/sec: 198.30k  01  Progress: 43.61%  Words/thread/sec: 198.53k  2%  Words/thread/sec: 198.21k  013861  Progress: 44.57%  Words/thread/sec: 198.50k  45.05%  Words/thread/sec: 198.31k  ess: 45.55%  Words/thread/sec: 198.22k  98.35k     Words/thread/sec: 198.07k  d/sec: 198.16k  rogress: 46.45%  Words/thread/sec: 198.25k  ess: 46.63%  Words/thread/sec: 198.33k  .013340  Progress: 46.65%  Words/thread/sec: 198.39k  ad/sec: 198.31k  : 0.013051  Progress: 47.81%  Words/thread/sec: 198.13k  gress: 48.29%  Words/thread/sec: 198.17k  thread/sec: 198.01k   0.012653  Progress: 49.40%  Words/thread/sec: 198.17k  0.012582  Progress: 49.68%  Words/thread/sec: 198.24k  ead/sec: 198.20k    496  Progress: 50.03%  Words/thread/sec: 197.91k  c: 198.05k  s: 50.63%  Words/thread/sec: 197.90k  21  Progress: 51.13%  Words/thread/sec: 197.95k  hread/sec: 197.92k  : 52.14%  Words/thread/sec: 197.98k  c: 197.96k    Words/thread/sec: 197.90k  011776  Progress: 52.91%  Words/thread/sec: 197.85k  : 198.06k  lpha: 0.011731  Progress: 53.09%  Words/thread/sec: 197.94k  rds/thread/sec: 197.87k  s/thread/sec: 198.00k  ords/thread/sec: 198.11k  84k    Progress: 53.53%  Words/thread/sec: 197.89k  ec: 197.78k   54.57%  Words/thread/sec: 197.76k  ess: 55.14%  Words/thread/sec: 197.97k      Progress: 56.03%  Words/thread/sec: 197.83k  hread/sec: 197.91k    Words/thread/sec: 197.67k  thread/sec: 197.64k  ss: 56.56%  Words/thread/sec: 197.77k   ords/thread/sec: 197.75k  0406  Progress: 58.39%  Words/thread/sec: 197.73k  ec: 197.59k  .39%  Words/thread/sec: 197.51k  3%  Words/thread/sec: 197.62k  ess: 59.65%  Words/thread/sec: 197.60k  39  Progress: 59.86%  Words/thread/sec: 197.54k  a: 0.009983  Progress: 60.08%  Words/thread/sec: 197.46k  hread/sec: 197.39k  197.47k  /thread/sec: 197.42k  ds/thread/sec: 197.30k   Progress: 62.77%  Words/thread/sec: 197.31k  272  Progress: 62.93%  Words/thread/sec: 197.25k  sec: 197.36k  pha: 0.009221  Progress: 63.13%  Words/thread/sec: 197.37k  d/sec: 197.42k  7.44k  s: 63.63%  Words/thread/sec: 197.46k  90  Progress: 64.05%  Words/thread/sec: 197.40k  %  Words/thread/sec: 197.43k  : 197.34k  /thread/sec: 197.40k  k  97.55k  sec: 197.51k  ead/sec: 197.30k  7.37k   Words/thread/sec: 197.44k   Words/thread/sec: 197.37k  7.34k  40%  Words/thread/sec: 197.34k  02  Progress: 68.80%  Words/thread/sec: 197.52k  : 197.48k  0.007653  Progress: 69.50%  Words/thread/sec: 197.51k  thread/sec: 197.39k  Progress: 69.79%  Words/thread/sec: 197.46k  1%  Words/thread/sec: 197.50k   0.007397  Progress: 70.43%  Words/thread/sec: 197.52k  ead/sec: 197.51k  ogress: 71.64%  Words/thread/sec: 197.51k  46k   Words/thread/sec: 197.53k  7%  Words/thread/sec: 197.48k   ress: 73.05%  Words/thread/sec: 197.40k  690  Progress: 73.25%  Words/thread/sec: 197.47k  ha: 0.006639  Progress: 73.46%  Words/thread/sec: 197.58k  read/sec: 197.49k  0.006383  Progress: 74.48%  Words/thread/sec: 197.50k  k  1k  ds/thread/sec: 197.59k  5931  Progress: 76.29%  Words/thread/sec: 197.60k  pha: 0.005880  Progress: 76.49%  Words/thread/sec: 197.45k  55  Progress: 76.59%  Words/thread/sec: 197.61k  7.52k  05704  Progress: 77.20%  Words/thread/sec: 197.61k  97.58k  : 0.005448  Progress: 78.22%  Words/thread/sec: 197.54k  197.63k  .58k  7.68k  ds/thread/sec: 197.62k  ad/sec: 197.68k  pha: 0.004991  Progress: 80.05%  Words/thread/sec: 197.65k  80.43%  Words/thread/sec: 197.77k  0.004772  Progress: 80.92%  Words/thread/sec: 197.74k  72k  pha: 0.004492  Progress: 82.05%  Words/thread/sec: 197.74k  004381  Progress: 82.49%  Words/thread/sec: 197.74k   197.94k  read/sec: 197.89k   Words/thread/sec: 197.80k  Progress: 83.69%  Words/thread/sec: 197.92k  7.95k  90%  Words/thread/sec: 197.97k  : 0.003624  Progress: 85.52%  Words/thread/sec: 197.98k  read/sec: 198.00k   86.53%  Words/thread/sec: 198.04k  : 0.003263  Progress: 86.96%  Words/thread/sec: 198.01k  /sec: 197.95k  ess: 88.15%  Words/thread/sec: 197.95k    Words/thread/sec: 197.99k  02510  Progress: 89.97%  Words/thread/sec: 198.09k  98.13k  c: 198.16k  Progress: 91.44%  Words/thread/sec: 198.02k  .14k  8.02k  rds/thread/sec: 198.11k  ogress: 93.39%  Words/thread/sec: 198.09k  /sec: 198.15k  thread/sec: 198.17k  9%  Words/thread/sec: 198.10k   0.001133  Progress: 95.48%  Words/thread/sec: 198.16k  s/thread/sec: 198.17k  .20k  5%  Words/thread/sec: 198.25k   0.000587  Progress: 97.67%  Words/thread/sec: 198.24k  ead/sec: 198.26k  ogress: 98.91%  Words/thread/sec: 198.35k  46k  "
     ]
    }
   ],
   "source": [
    "# Setup - train model \n",
    "word2vec.word2vec('example/data/text8', 'example/data/text8.bin', size=500, binary=True, verbose=True)"
   ]
  },
  {
   "cell_type": "code",
   "execution_count": 4,
   "metadata": {},
   "outputs": [],
   "source": [
    "model = word2vec.load('example/data/text8.bin')"
   ]
  },
  {
   "cell_type": "code",
   "execution_count": 5,
   "metadata": {},
   "outputs": [
    {
     "name": "stdout",
     "output_type": "stream",
     "text": [
      "Correct answer is application. Model guessed correctly.\n",
      "Correct answer is car. Model guessed correctly.\n",
      "Correct answer is council. Model guessed correctly.\n",
      "Correct answer is day. Model guessed months\n",
      "Correct answer is department. Model guessed offices\n",
      "Correct answer is difference. Model guessed correctly.\n",
      "Correct answer is event. Model guessed correctly.\n",
      "Correct answer is fact. Model guessed explanation\n",
      "Correct answer is god. Model guessed goddess\n",
      "Correct answer is hour. Model guessed correctly.\n",
      "Correct answer is language. Model guessed correctly.\n",
      "Correct answer is member. Model guessed correctly.\n",
      "Correct answer is night. Model guessed wednesday\n",
      "Correct answer is period. Model guessed correctly.\n",
      "Correct answer is population. Model guessed correctly.\n",
      "Correct answer is product. Model guessed correctly.\n",
      "Correct answer is river. Model guessed correctly.\n",
      "Correct answer is role. Model guessed correctly.\n",
      "Correct answer is solution. Model guessed correctly.\n",
      "Correct answer is street. Model guessed correctly.\n",
      "Correct answer is system. Model guessed correctly.\n",
      "Correct answer is town. Model guessed correctly.\n",
      "Correct answer is version. Model guessed correctly.\n",
      "Correct answer is website. Model guessed correctly.\n",
      "Correct answer is year. Model guessed correctly.\n",
      "Accuracy rate:  80.0 %\n"
     ]
    }
   ],
   "source": [
    "import itertools\n",
    "\n",
    "countTotal = 0\n",
    "correctCount = 0\n",
    "incorrectCount = 0\n",
    "unrecognizedCount = 0\n",
    "\n",
    "# Change file name to run experiment on different analogy sets \n",
    "with open('./Bigger Analogy Test Set/1_Inflectional_morphology/I01 [noun - plural_reg].txt') as file:\n",
    "    for line1,line2 in itertools.zip_longest(*[file]*2):\n",
    "        line1 = line1.split('\\t')\n",
    "        line2 = line2.split('\\t')\n",
    "        line1[1] = line1[1].split('/')\n",
    "        for i in range(len(line1[1])):\n",
    "            line1[1][i] = line1[1][i].rstrip()\n",
    "            if line1[1][i].__contains__('-'):\n",
    "                line1[1].pop(i)\n",
    "        line2[1] = line2[1].split('/')\n",
    "        for i in range(len(line2[1])):\n",
    "            line2[1][i] = line2[1][i].rstrip()\n",
    "            if line2[1][i].__contains__('-'):\n",
    "                line2[1].pop(i)\n",
    "        countTotal += 1\n",
    "        try:\n",
    "            line2[1].append(line1[0])\n",
    "            indexes, metrics = model.analogy(pos=line2[1], neg=line1[1])\n",
    "            if (model.vocab[indexes].__contains__(line2[0])):\n",
    "                correctCount += 1\n",
    "                print(\"Correct answer is \" + line2[0] + \". Model guessed correctly.\")\n",
    "            else:\n",
    "                incorrectCount += 1\n",
    "                print(\"Correct answer is \" + line2[0] + \". Model guessed \" + model.vocab[indexes][0])\n",
    "        except Exception as e:\n",
    "             unrecognizedCount += 1\n",
    "             print(\"Correct answer is \" + line2[0] + \". Model did not recognize the word \" + e.args[0])\n",
    "        #print(line1[0], line1[1], line2[0], line2[1])\n",
    "    print(\"Accuracy rate: \", correctCount/countTotal*100, \"%\")"
   ]
  },
  {
   "cell_type": "code",
   "execution_count": 153,
   "metadata": {},
   "outputs": [],
   "source": [
    "import pandas as pd"
   ]
  },
  {
   "cell_type": "code",
   "execution_count": 154,
   "metadata": {},
   "outputs": [
    {
     "data": {
      "image/png": "[encoded data removed]",
      "text/plain": [
       "<Figure size 432x288 with 1 Axes>"
      ]
     },
     "metadata": {
      "needs_background": "light"
     },
     "output_type": "display_data"
    }
   ],
   "source": [
    "df = pd.DataFrame({'Accuracy':['Accurate Guess', 'Related Guess', 'Incorrect Guess', 'Not Recognized'], 'Number of Guesses':[correctCount, 6, incorrectCount, unrecognizedCount]})\n",
    "ax = df.plot.bar(x='Accuracy', y='Number of Guesses', rot=0)"
   ]
  },
  {
   "attachments": {},
   "cell_type": "markdown",
   "metadata": {},
   "source": [
    "## Experiment Takeaways\n",
    "\n",
    "1. The model seems to perform much better on the **inflectional morphology** dataset. \n",
    "- This is likely an inherent quality of the word2vec model. \n",
    "- For context: **inflectional morphology** does not change the part of speech of a word, and is associated with relationships *between* words (ex. changing a verb from its singular form to plural form in order to match the subject of a sentence). In contrast, **derivational morphology** can often change the part of speech of a word, and is associated with semantic relationships *within* a word itself (ex. changing a verb to an adverb usually has no relationship to the rest of a sentence). [See this handout for more info.](http://websites.umich.edu/~jlawler/Inflection.pdf)\n",
    "- Because word2vec compares relationships *between* words, it seems inherently better suited to analyze these types of analogies. \n",
    "2. The impact of bias/variance can be seen in the results comparing accuracy across dimensional values. \n",
    "- In the case of 5-dimension vectors, the vectors are really too small to be of much use, resulting in extremely poor results (never scoring above 4% accuracy). The model is unable to distinguish relevant relationships between the words because the vectors are so small, resulting in a high degree of *bias*. Increasing the dimensions to 50 helps significantly, but issues still persist. \n",
    "- However, beyond about 1000-dimension vectors does not seem to increase the accuracy of the results and in fact seems to worsen the accuracy in certain cases. This is likely due to overfitting or *bias* with such large vectors. \n",
    "- Overall, anywhere from 500-1500 dimension vectors will likely provide a suitable model. \n",
    "3. The model's results are ***heavily*** dependent on the training data set. \n",
    "- Certain analogy sets were not usable because the words used did not appear in the training set, resulting in complete failure. \n",
    "- However, beyond just not including words in the training set, some relationships were indiscernable even if all words were in the training set. \n",
    "- An example of this is the UK city -> County data set, which associates cities in the UK with the county they are located in. The model recognized every word used in every analogy. However, the training set likely did not include any sentences indicating the relationship between these words as cities/counties, and thus the model was never able to get any of the analogies correct. \n",
    "- This has probably been discussed at length for machine learning algorithms in general, but still an important reminder that the biases present in the training data sets for these models will become very apparent when putting them into practice. Thus it is important to use a diverse and varied data set for these types of algorithms. \n"
   ]
  }
 ],
 "metadata": {
  "kernelspec": {
   "display_name": "Python 3 (ipykernel)",
   "language": "python",
   "name": "python3"
  },
  "language_info": {
   "codemirror_mode": {
    "name": "ipython",
    "version": 3
   },
   "file_extension": ".py",
   "mimetype": "text/x-python",
   "name": "python",
   "nbconvert_exporter": "python",
   "pygments_lexer": "ipython3",
   "version": "3.9.7"
  }
 },
 "nbformat": 4,
 "nbformat_minor": 2
}
