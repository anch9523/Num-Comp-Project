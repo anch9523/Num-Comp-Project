{
 "cells": [
  {
   "cell_type": "code",
   "execution_count": 1,
   "metadata": {},
   "outputs": [],
   "source": [
    "import word2vec"
   ]
  },
  {
   "cell_type": "code",
   "execution_count": 23,
   "metadata": {},
   "outputs": [
    {
     "name": "stdout",
     "output_type": "stream",
     "text": [
      "Running command: word2vec -train example/data/text8 -output example/data/text8.bin -size 500 -window 5 -sample 1e-3 -hs 0 -negative 5 -threads 12 -iter 5 -min-count 5 -alpha 0.025 -debug 2 -binary 1 -cbow 1\n",
      "Starting training using file example/data/text8\n",
      "Vocab size: 71291\n",
      "Words in train file: 16718843\n",
      "Alpha: 0.000002  Progress: 100.03%  Words/thread/sec: 200.97k  0%  Words/thread/sec: 195.08k  ords/thread/sec: 178.63k  read/sec: 193.69k  c: 202.59k  k  .26k  .024673  Progress: 1.32%  Words/thread/sec: 196.16k   195.62k  : 0.024620  Progress: 1.53%  Words/thread/sec: 201.60k  569  Progress: 1.74%  Words/thread/sec: 196.81k  d/sec: 202.63k  rogress: 1.94%  Words/thread/sec: 200.43k  ogress: 2.02%  Words/thread/sec: 197.01k  s: 2.14%  Words/thread/sec: 201.78k  /sec: 197.38k  5%  Words/thread/sec: 199.48k  2.46%  Words/thread/sec: 197.76k  rds/thread/sec: 202.05k  read/sec: 200.85k  ress: 2.74%  Words/thread/sec: 201.98k  hread/sec: 201.49k  4279  Progress: 2.90%  Words/thread/sec: 202.80k  sec: 201.22k   Progress: 3.09%  Words/thread/sec: 199.82k  02.22k  : 3.31%  Words/thread/sec: 202.35k    Progress: 3.54%  Words/thread/sec: 200.35k  c: 202.91k   4.42%  Words/thread/sec: 202.46k  4k  pha: 0.023692  Progress: 5.24%  Words/thread/sec: 202.40k  023638  Progress: 5.45%  Words/thread/sec: 203.73k  .56%  Words/thread/sec: 203.06k  a: 0.023524  Progress: 5.92%  Words/thread/sec: 202.91k  /sec: 202.61k  0.023230  Progress: 7.09%  Words/thread/sec: 202.21k  1%  Words/thread/sec: 202.41k  02.80k   66  Progress: 8.55%  Words/thread/sec: 203.69k  a: 0.022818  Progress: 8.74%  Words/thread/sec: 202.45k  2767  Progress: 8.94%  Words/thread/sec: 202.95k  rogress: 9.15%  Words/thread/sec: 203.30k  : 9.35%  Words/thread/sec: 202.18k  hread/sec: 202.81k  hread/sec: 202.72k  : 10.57%  Words/thread/sec: 201.79k  .022258  Progress: 10.98%  Words/thread/sec: 202.52k  d/sec: 202.39k  rds/thread/sec: 201.43k  1.99%  Words/thread/sec: 201.69k  ogress: 12.19%  Words/thread/sec: 202.24k  21905  Progress: 12.39%  Words/thread/sec: 201.38k  sec: 201.57k  ss: 13.60%  Words/thread/sec: 201.30k   ad/sec: 201.18k  1k  ec: 201.38k  021146  Progress: 15.43%  Words/thread/sec: 201.03k  01.48k  ad/sec: 201.40k  ords/thread/sec: 201.30k  rogress: 16.31%  Words/thread/sec: 201.53k   16.44%  Words/thread/sec: 201.29k  Progress: 16.65%  Words/thread/sec: 201.16k  sec: 201.24k  020643  Progress: 17.44%  Words/thread/sec: 201.09k  ress: 18.07%  Words/thread/sec: 201.01k  a: 0.020404  Progress: 18.50%  Words/thread/sec: 201.53k  5k  ec: 200.73k  /thread/sec: 201.06k  rogress: 19.52%  Words/thread/sec: 201.00k   ords/thread/sec: 201.31k  9653  Progress: 21.40%  Words/thread/sec: 201.24k  : 21.82%  Words/thread/sec: 201.11k  sec: 200.86k  ss: 22.20%  Words/thread/sec: 201.26k  ords/thread/sec: 201.24k  2.41%  Words/thread/sec: 201.52k  rogress: 22.61%  Words/thread/sec: 200.92k  s/thread/sec: 200.67k  k  ords/thread/sec: 201.16k  ss: 24.58%  Words/thread/sec: 200.83k  5.09%  Words/thread/sec: 200.91k  ress: 25.24%  Words/thread/sec: 201.31k  : 25.45%  Words/thread/sec: 200.71k  599  Progress: 25.62%  Words/thread/sec: 200.81k    Progress: 25.66%  Words/thread/sec: 201.01k  sec: 200.77k  : 0.018538  Progress: 25.86%  Words/thread/sec: 201.36k  lpha: 0.018503  Progress: 26.00%  Words/thread/sec: 201.27k   Progress: 26.32%  Words/thread/sec: 201.45k  lpha: 0.018308  Progress: 26.78%  Words/thread/sec: 201.55k  sec: 201.48k  d/sec: 201.68k  .28%  Words/thread/sec: 201.74k  gress: 28.51%  Words/thread/sec: 201.77k  7830  Progress: 28.69%  Words/thread/sec: 201.83k  pha: 0.017779  Progress: 28.90%  Words/thread/sec: 202.02k  .54k  /sec: 201.82k   0.017550  Progress: 29.81%  Words/thread/sec: 202.05k  0.16%  Words/thread/sec: 201.72k   Words/thread/sec: 201.92k   Words/thread/sec: 201.80k  thread/sec: 201.80k    rds/thread/sec: 201.78k  ead/sec: 201.78k  16989  Progress: 32.06%  Words/thread/sec: 202.10k   201.74k  c: 202.08k  thread/sec: 201.95k  %  Words/thread/sec: 201.59k  ad/sec: 201.89k   201.92k   Words/thread/sec: 201.79k  .07%  Words/thread/sec: 201.92k  s/thread/sec: 202.03k  57%  Words/thread/sec: 201.58k  ress: 35.77%  Words/thread/sec: 201.83k  pha: 0.016009  Progress: 35.98%  Words/thread/sec: 201.99k   36.05%  Words/thread/sec: 201.77k  15888  Progress: 36.46%  Words/thread/sec: 201.64k   201.67k  rds/thread/sec: 201.70k    38.32%  Words/thread/sec: 201.57k  : 0.015398  Progress: 38.42%  Words/thread/sec: 201.85k   38.61%  Words/thread/sec: 201.53k  Progress: 38.82%  Words/thread/sec: 201.73k  .015248  Progress: 39.02%  Words/thread/sec: 201.78k  201.71k  0.09%  Words/thread/sec: 201.76k  ha: 0.014818  Progress: 40.74%  Words/thread/sec: 201.66k  ec: 201.71k  hread/sec: 201.67k  .014545  Progress: 41.83%  Words/thread/sec: 201.70k   0.014466  Progress: 42.15%  Words/thread/sec: 201.39k    : 201.63k  hread/sec: 201.27k  rogress: 42.97%  Words/thread/sec: 201.40k  : 201.54k  c: 201.35k  1.52k   201.63k  15  Progress: 45.15%  Words/thread/sec: 201.62k  ec: 201.80k  /thread/sec: 201.44k  0%  Words/thread/sec: 201.61k   0.013351  Progress: 46.61%  Words/thread/sec: 201.60k  ead/sec: 201.59k  ogress: 47.82%  Words/thread/sec: 201.59k  58k  sec: 201.43k  sec: 201.64k  ds/thread/sec: 201.50k  .04%  Words/thread/sec: 201.64k  gress: 49.24%  Words/thread/sec: 201.54k  read/sec: 201.62k  thread/sec: 201.50k  %  Words/thread/sec: 201.40k  .012068  Progress: 51.74%  Words/thread/sec: 201.38k  s/thread/sec: 201.63k  52.07%  Words/thread/sec: 201.55k  ss: 52.16%  Words/thread/sec: 201.38k  Progress: 52.27%  Words/thread/sec: 201.23k  ha: 0.011890  Progress: 52.45%  Words/thread/sec: 201.34k  0.011884  Progress: 52.48%  Words/thread/sec: 201.38k  hread/sec: 201.35k  ec: 201.42k  ess: 53.87%  Words/thread/sec: 201.38k  31k  %  Words/thread/sec: 201.22k  ss: 55.11%  Words/thread/sec: 201.26k  6  Progress: 55.31%  Words/thread/sec: 201.11k  : 0.011125  Progress: 55.51%  Words/thread/sec: 201.27k  k  c: 200.92k  : 56.52%  Words/thread/sec: 200.67k  ds/thread/sec: 200.67k  s: 58.34%  Words/thread/sec: 200.67k  rogress: 58.53%  Words/thread/sec: 200.88k  3k  ec: 200.73k  /thread/sec: 200.85k  0%  Words/thread/sec: 200.77k  ess: 59.61%  Words/thread/sec: 200.86k  50  Progress: 59.81%  Words/thread/sec: 200.78k  : 200.82k  50  Progress: 61.01%  Words/thread/sec: 200.83k  00.87k  k  d/sec: 200.87k  a: 0.009461  Progress: 62.18%  Words/thread/sec: 200.78k  ords/thread/sec: 200.98k  62.48%  Words/thread/sec: 200.72k  rogress: 62.68%  Words/thread/sec: 200.87k  : 0.009221  Progress: 63.13%  Words/thread/sec: 200.85k   : 64.00%  Words/thread/sec: 200.75k    Words/thread/sec: 200.87k   Words/thread/sec: 200.74k  : 65.52%  Words/thread/sec: 200.88k  ds/thread/sec: 200.91k    Progress: 65.73%  Words/thread/sec: 200.95k  200.94k  6.94%  Words/thread/sec: 200.93k  ha: 0.008114  Progress: 67.55%  Words/thread/sec: 200.94k  thread/sec: 200.90k  s: 68.60%  Words/thread/sec: 201.01k  2  Progress: 68.77%  Words/thread/sec: 200.93k  7796  Progress: 68.83%  Words/thread/sec: 200.80k  a: 0.007761  Progress: 68.97%  Words/thread/sec: 200.75k  s/thread/sec: 200.91k  thread/sec: 200.70k   Progress: 70.18%  Words/thread/sec: 200.71k  07308  Progress: 70.78%  Words/thread/sec: 200.72k  ad/sec: 200.75k  : 200.76k  6  Progress: 71.91%  Words/thread/sec: 200.85k  7002  Progress: 72.00%  Words/thread/sec: 200.66k  read/sec: 200.66k  rds/thread/sec: 200.66k  read/sec: 200.82k  ad/sec: 200.67k  ords/thread/sec: 200.66k  pha: 0.006732  Progress: 73.09%  Words/thread/sec: 200.68k  : 0.006639  Progress: 73.46%  Words/thread/sec: 200.80k  %  Words/thread/sec: 200.78k  0.006294  Progress: 74.84%  Words/thread/sec: 200.79k  %  Words/thread/sec: 200.85k  read/sec: 200.66k   Words/thread/sec: 200.77k  : 75.84%  Words/thread/sec: 200.88k   Progress: 76.05%  Words/thread/sec: 200.66k  8%  Words/thread/sec: 200.81k  rds/thread/sec: 200.81k    Words/thread/sec: 200.69k  8k  ead/sec: 200.72k  %  Words/thread/sec: 200.75k  ss: 78.89%  Words/thread/sec: 200.57k  9  Progress: 79.11%  Words/thread/sec: 200.69k  : 0.005171  Progress: 79.33%  Words/thread/sec: 200.79k  k  c: 200.75k  %  Words/thread/sec: 200.81k  Progress: 81.38%  Words/thread/sec: 200.82k  004551  Progress: 81.81%  Words/thread/sec: 200.79k  87  Progress: 82.06%  Words/thread/sec: 200.76k  ec: 200.64k  04446  Progress: 82.23%  Words/thread/sec: 200.80k  lpha: 0.004395  Progress: 82.43%  Words/thread/sec: 200.87k  70%  Words/thread/sec: 200.82k  rogress: 83.21%  Words/thread/sec: 200.91k  s/thread/sec: 200.79k   Progress: 84.24%  Words/thread/sec: 200.84k  : 84.86%  Words/thread/sec: 200.87k   0.003711  Progress: 85.30%  Words/thread/sec: 200.97k   ead/sec: 200.85k  86.28%  Words/thread/sec: 200.77k  pha: 0.003279  Progress: 86.90%  Words/thread/sec: 200.77k  /thread/sec: 200.74k  2  Progress: 88.01%  Words/thread/sec: 200.82k  /sec: 200.87k  ead/sec: 200.84k  ogress: 89.52%  Words/thread/sec: 200.82k  0.002489  Progress: 90.06%  Words/thread/sec: 200.73k  /thread/sec: 200.70k  ess: 91.00%  Words/thread/sec: 200.70k  40%  Words/thread/sec: 200.72k  65k  ogress: 92.56%  Words/thread/sec: 200.79k  %  Words/thread/sec: 200.78k  51%  Words/thread/sec: 200.70k     rds/thread/sec: 200.74k  %  Words/thread/sec: 200.68k   Progress: 95.89%  Words/thread/sec: 200.80k  .66k  ss: 97.01%  Words/thread/sec: 200.66k   ords/thread/sec: 200.67k  0291  Progress: 98.85%  Words/thread/sec: 200.80k  0132  Progress: 99.48%  Words/thread/sec: 200.83k  %  Words/thread/sec: 200.93k  "
     ]
    }
   ],
   "source": [
    "# Setup - train model \n",
    "word2vec.word2vec('example/data/text8', 'example/data/text8.bin', size=500, binary=True, verbose=True)"
   ]
  },
  {
   "cell_type": "code",
   "execution_count": 24,
   "metadata": {},
   "outputs": [],
   "source": [
    "model = word2vec.load('example/data/text8.bin')"
   ]
  },
  {
   "cell_type": "code",
   "execution_count": 25,
   "metadata": {},
   "outputs": [
    {
     "name": "stdout",
     "output_type": "stream",
     "text": [
      "Correct answer is dog. Model guessed jolt\n",
      "Correct answer is aggressive. Model guessed communicate\n",
      "Correct answer is silky. Model did not recognize a word in analogy.\n",
      "Correct answer is yucky. Model did not recognize a word in analogy.\n",
      "Correct answer is creepy. Model did not recognize a word in analogy.\n",
      "Correct answer is white. Model guessed correctly.\n",
      "Correct answer is ugly. Model guessed lovely\n",
      "Correct answer is closed. Model guessed correctly.\n",
      "Correct answer is hate. Model guessed passion\n",
      "Correct answer is dog. Model guessed dyed\n",
      "Correct answer is school. Model guessed deer\n",
      "Correct answer is toe. Model guessed flank\n",
      "Correct answer is tree. Model guessed coastal\n",
      "Correct answer is cut. Model guessed corrugated\n",
      "Correct answer is sleep. Model guessed clothes\n",
      "Correct answer is glove. Model guessed pull\n",
      "Correct answer is copier. Model guessed copies\n",
      "Correct answer is act. Model guessed novelist\n",
      "Correct answer is count. Model guessed apprenticeship\n",
      "Correct answer is diver. Model guessed lift\n",
      "Correct answer is cleaner. Model guessed cleaning\n",
      "Correct answer is reptile. Model guessed plissken\n",
      "Correct answer is vegetable. Model guessed wozniak\n",
      "Correct answer is continent. Model did not recognize a word in analogy.\n",
      "Correct answer is river. Model did not recognize a word in analogy.\n",
      "Correct answer is rested. Model guessed forget\n",
      "Correct answer is heat. Model guessed disruption\n",
      "Correct answer is overspend. Model guessed drove\n",
      "Correct answer is red. Model guessed curly\n",
      "Correct answer is sob. Model did not recognize a word in analogy.\n",
      "Correct answer is pleased. Model guessed amphion\n",
      "Correct answer is warm. Model guessed fog\n",
      "Correct answer is cold. Model guessed polysaccharide\n",
      "Correct answer is hard. Model guessed jello\n",
      "Correct answer is grass. Model guessed yellow\n",
      "Correct answer is sand. Model guessed rainy\n",
      "Correct answer is petal. Model guessed bird\n",
      "Correct answer is hair. Model guessed resonator\n",
      "Correct answer is down. Model guessed correctly.\n",
      "Correct answer is dinghy. Model guessed hometown\n",
      "Correct answer is heavy. Model guessed brief\n",
      "Correct answer is den. Model guessed birds\n",
      "Correct answer is dance. Model guessed reach\n",
      "Correct answer is stone. Model guessed playwright\n",
      "Correct answer is hate. Model guessed prefer\n"
     ]
    }
   ],
   "source": [
    "import csv\n",
    "\n",
    "with open('analogies.csv') as csvfile:\n",
    "    reader = csv.DictReader(csvfile, fieldnames=['0', '1', '2', '3'])\n",
    "    for row in reader:\n",
    "        try:\n",
    "            indexes, metrics = model.analogy(pos=[row['0'], row['2']], neg=[row['1']])\n",
    "            if (model.vocab[indexes].__contains__(row['3'])):\n",
    "                print(\"Correct answer is \" + row['3'] + \". Model guessed correctly.\")\n",
    "            else:\n",
    "                print(\"Correct answer is \" + row['3'] + \". Model guessed \" + model.vocab[indexes][0])\n",
    "        except:\n",
    "             print(\"Correct answer is \" + row['3'] + \". Model did not recognize a word in analogy.\")"
   ]
  },
  {
   "cell_type": "code",
   "execution_count": 1,
   "metadata": {},
   "outputs": [],
   "source": []
  }
 ],
 "metadata": {
  "kernelspec": {
   "display_name": "Python 3 (ipykernel)",
   "language": "python",
   "name": "python3"
  },
  "language_info": {
   "codemirror_mode": {
    "name": "ipython",
    "version": 3
   },
   "file_extension": ".py",
   "mimetype": "text/x-python",
   "name": "python",
   "nbconvert_exporter": "python",
   "pygments_lexer": "ipython3",
   "version": "3.9.7"
  }
 },
 "nbformat": 4,
 "nbformat_minor": 2
}
