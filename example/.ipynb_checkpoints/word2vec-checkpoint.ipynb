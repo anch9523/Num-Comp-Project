{
 "cells": [
  {
   "cell_type": "code",
   "execution_count": 3,
   "id": "2fe5edfc",
   "metadata": {},
   "outputs": [
    {
     "name": "stdout",
     "output_type": "stream",
     "text": [
      "Collecting word2vec\n",
      "  Using cached word2vec-0.11.1.tar.gz (42 kB)\n",
      "  Installing build dependencies ... \u001b[?25ldone\n",
      "\u001b[?25h  Getting requirements to build wheel ... \u001b[?25ldone\n",
      "\u001b[?25h    Preparing wheel metadata ... \u001b[?25ldone\n",
      "\u001b[?25hRequirement already satisfied: joblib in /Users/annechen/opt/anaconda3/lib/python3.8/site-packages (from word2vec) (1.1.0)\n",
      "Requirement already satisfied: numpy>=1.9.2 in /Users/annechen/opt/anaconda3/lib/python3.8/site-packages (from word2vec) (1.20.3)\n",
      "Building wheels for collected packages: word2vec\n",
      "  Building wheel for word2vec (PEP 517) ... \u001b[?25ldone\n",
      "\u001b[?25h  Created wheel for word2vec: filename=word2vec-0.11.1-py2.py3-none-any.whl size=111503 sha256=b76a3aa39893e4ca84eee0f1f78818540aa4723dec23033a7c3966d3c08319ca\n",
      "  Stored in directory: /Users/annechen/Library/Caches/pip/wheels/d9/b0/11/87d7a6c76458790285839bd80e87ddc52dc4108f0063f24307\n",
      "Successfully built word2vec\n",
      "Installing collected packages: word2vec\n",
      "Successfully installed word2vec-0.11.1\n"
     ]
    }
   ],
   "source": [
    "import sys\n",
    "!{sys.executable} -m pip install word2vec"
   ]
  },
  {
   "cell_type": "code",
   "execution_count": 4,
   "id": "21cf9bfd",
   "metadata": {},
   "outputs": [
    {
     "name": "stdout",
     "output_type": "stream",
     "text": [
      "Running command: word2phrase -train data/text8 -output data/text8-phrases -min-count 5 -threshold 100 -debug 2\n",
      "Starting training using file data/text8\n",
      "Words processed: 17000K     Vocab size: 4399K  \n",
      "Vocab size (unigrams + bigrams): 2419827\n",
      "Words in train file: 17005206\n",
      "Words written: 17000K\r"
     ]
    }
   ],
   "source": [
    "import word2vec \n",
    "word2vec.word2phrase('data/text8', 'data/text8-phrases', verbose=True)"
   ]
  },
  {
   "cell_type": "code",
   "execution_count": 5,
   "id": "dc75c457",
   "metadata": {},
   "outputs": [
    {
     "name": "stdout",
     "output_type": "stream",
     "text": [
      "Running command: word2vec -train data/text8 -output data/text8.bin -size 100 -window 5 -sample 1e-3 -hs 0 -negative 5 -threads 12 -iter 5 -min-count 5 -alpha 0.025 -debug 2 -binary 1 -cbow 1\n",
      "Starting training using file data/text8\n",
      "Vocab size: 71291\n",
      "Words in train file: 16718843\n",
      "Alpha: 0.000002  Progress: 100.03%  Words/thread/sec: 365.04k  ec: 340.61k  9  Progress: 1.46%  Words/thread/sec: 354.17k  86%  Words/thread/sec: 355.12k  ad/sec: 360.78k    228  Progress: 3.10%  Words/thread/sec: 360.69k  3.51%  Words/thread/sec: 363.23k  read/sec: 367.68k  7k  23814  Progress: 4.76%  Words/thread/sec: 369.18k  : 5.17%  Words/thread/sec: 368.76k  thread/sec: 367.89k  ss: 5.98%  Words/thread/sec: 369.39k  /thread/sec: 367.33k    Words/thread/sec: 368.59k  ress: 7.00%  Words/thread/sec: 369.61k  .023160  Progress: 7.37%  Words/thread/sec: 367.25k   0.022901  Progress: 8.41%  Words/thread/sec: 368.78k  ead/sec: 368.51k  ec: 367.27k  9  Progress: 9.66%  Words/thread/sec: 367.82k  %  Words/thread/sec: 367.02k  17k  read/sec: 366.91k  ad/sec: 367.14k  367.20k  d/sec: 367.04k  ead/sec: 366.40k  pha: 0.021669  Progress: 13.34%  Words/thread/sec: 367.82k  sec: 366.81k  4%  Words/thread/sec: 368.33k  ss: 14.69%  Words/thread/sec: 367.85k   368.03k  15.76%  Words/thread/sec: 367.82k  20960  Progress: 16.17%  Words/thread/sec: 368.59k  .23k  s/thread/sec: 368.61k  6  Progress: 17.59%  Words/thread/sec: 367.96k   368.62k  18.81%  Words/thread/sec: 367.84k  9  Progress: 19.26%  Words/thread/sec: 367.33k  020090  Progress: 19.65%  Words/thread/sec: 368.00k  .00%  Words/thread/sec: 368.08k  ess: 20.49%  Words/thread/sec: 368.40k    Words/thread/sec: 368.97k  9434  Progress: 22.28%  Words/thread/sec: 368.69k  : 22.72%  Words/thread/sec: 368.01k  : 368.74k  hread/sec: 369.34k  k  Words/thread/sec: 369.12k  ress: 25.36%  Words/thread/sec: 369.14k  hread/sec: 369.27k  rds/thread/sec: 368.90k  ress: 26.60%  Words/thread/sec: 369.64k  a: 0.018252  Progress: 27.00%  Words/thread/sec: 369.32k  hread/sec: 369.42k  Progress: 28.22%  Words/thread/sec: 369.02k  8.55k  29.31%  Words/thread/sec: 369.02k  ress: 29.64%  Words/thread/sec: 369.37k  a: 0.017492  Progress: 30.04%  Words/thread/sec: 368.82k  : 368.66k  ss: 30.86%  Words/thread/sec: 368.75k  .017138  Progress: 31.46%  Words/thread/sec: 369.17k  d/sec: 369.39k  Words/thread/sec: 369.58k  ress: 33.21%  Words/thread/sec: 369.82k  gress: 33.50%  Words/thread/sec: 369.75k  s: 34.09%  Words/thread/sec: 369.61k    gress: 35.71%  Words/thread/sec: 369.15k  Progress: 36.06%  Words/thread/sec: 369.24k  7  Progress: 36.39%  Words/thread/sec: 369.40k  /sec: 369.54k    Progress: 37.32%  Words/thread/sec: 369.27k  369.31k  81  Progress: 38.49%  Words/thread/sec: 369.61k  15246  Progress: 39.03%  Words/thread/sec: 369.22k  ds/thread/sec: 369.29k  ogress: 39.71%  Words/thread/sec: 369.16k  Progress: 40.02%  Words/thread/sec: 369.18k   0.014846  Progress: 40.63%  Words/thread/sec: 368.58k   368.01k  41.64%  Words/thread/sec: 368.12k  pha: 0.014433  Progress: 42.28%  Words/thread/sec: 368.40k  sec: 369.10k  9%  Words/thread/sec: 368.36k  7  Progress: 43.50%  Words/thread/sec: 368.89k   368.50k  44.71%  Words/thread/sec: 368.54k  thread/sec: 368.49k  sec: 368.50k  3%  Words/thread/sec: 368.51k  9  Progress: 46.54%  Words/thread/sec: 368.35k    ad/sec: 368.88k  rogress: 47.96%  Words/thread/sec: 368.83k  6  Progress: 48.51%  Words/thread/sec: 368.54k  ad/sec: 368.62k  a: 0.012694  Progress: 49.31%  Words/thread/sec: 368.69k  d/sec: 368.85k   50.00%  Words/thread/sec: 368.72k  hread/sec: 368.73k  9  Progress: 50.90%  Words/thread/sec: 368.68k  /sec: 368.51k  gress: 52.01%  Words/thread/sec: 368.61k  ress: 52.79%  Words/thread/sec: 368.93k  rds/thread/sec: 368.95k    Words/thread/sec: 369.07k   Progress: 54.03%  Words/thread/sec: 368.83k  : 368.77k  gress: 55.45%  Words/thread/sec: 368.86k  ogress: 56.05%  Words/thread/sec: 368.72k  ec: 369.03k  %  Words/thread/sec: 368.64k    Progress: 57.08%  Words/thread/sec: 368.68k  368.65k   Progress: 58.15%  Words/thread/sec: 368.43k  0328  Progress: 58.70%  Words/thread/sec: 368.79k  ogress: 59.27%  Words/thread/sec: 368.70k  /thread/sec: 368.46k  ha: 0.010083  Progress: 59.69%  Words/thread/sec: 368.64k  k  ords/thread/sec: 368.73k  read/sec: 368.88k  lpha: 0.009626  Progress: 61.51%  Words/thread/sec: 368.69k  ress: 61.94%  Words/thread/sec: 368.83k   0.009405  Progress: 62.39%  Words/thread/sec: 368.78k  pha: 0.009300  Progress: 62.81%  Words/thread/sec: 369.10k  ha: 0.009228  Progress: 63.10%  Words/thread/sec: 369.11k  /thread/sec: 369.00k  009014  Progress: 63.96%  Words/thread/sec: 369.21k  a: 0.008877  Progress: 64.51%  Words/thread/sec: 369.32k  01%  Words/thread/sec: 369.20k  c: 369.20k  ad/sec: 369.34k  369.27k  9k  thread/sec: 369.47k  hread/sec: 369.59k  ogress: 68.54%  Words/thread/sec: 369.66k   Progress: 69.08%  Words/thread/sec: 369.84k  7695  Progress: 69.35%  Words/thread/sec: 370.03k  66k  /thread/sec: 369.90k  %  Words/thread/sec: 369.90k   ords/thread/sec: 369.97k  6914  Progress: 72.36%  Words/thread/sec: 370.01k  0k    Words/thread/sec: 370.43k  6%  Words/thread/sec: 370.07k  73.80%  Words/thread/sec: 369.75k    Words/thread/sec: 369.07k  ords/thread/sec: 368.46k  99k  .94k  : 0.005976  Progress: 76.11%  Words/thread/sec: 368.00k  ords/thread/sec: 367.89k  98  Progress: 76.82%  Words/thread/sec: 367.92k  k  67.87k  Progress: 78.23%  Words/thread/sec: 367.48k  7.27k  ds/thread/sec: 367.34k  ress: 79.67%  Words/thread/sec: 367.54k  a: 0.004982  Progress: 80.09%  Words/thread/sec: 367.38k  hread/sec: 366.92k  Progress: 81.32%  Words/thread/sec: 366.53k  k  ds/thread/sec: 365.87k  s: 82.63%  Words/thread/sec: 365.80k   hread/sec: 365.80k  .63%  Words/thread/sec: 365.73k  65.64k  .003856  Progress: 84.59%  Words/thread/sec: 365.69k  Progress: 85.11%  Words/thread/sec: 365.61k  read/sec: 365.33k  : 0.003355  Progress: 86.59%  Words/thread/sec: 365.25k    Progress: 87.09%  Words/thread/sec: 365.31k  0.003093  Progress: 87.64%  Words/thread/sec: 365.07k  ogress: 88.70%  Words/thread/sec: 365.02k  .21%  Words/thread/sec: 365.18k    Progress: 89.62%  Words/thread/sec: 365.17k  439  Progress: 90.26%  Words/thread/sec: 365.33k  .002333  Progress: 90.68%  Words/thread/sec: 365.35k  ead/sec: 365.09k  rds/thread/sec: 364.52k   Progress: 92.06%  Words/thread/sec: 364.22k  01856  Progress: 92.59%  Words/thread/sec: 363.84k  ss: 93.24%  Words/thread/sec: 363.51k  001570  Progress: 93.73%  Words/thread/sec: 363.45k  26%  Words/thread/sec: 363.51k  c: 363.65k  ha: 0.001165  Progress: 95.35%  Words/thread/sec: 363.87k  %  Words/thread/sec: 363.95k    Words/thread/sec: 364.05k  88%  Words/thread/sec: 363.70k  pha: 0.000656  Progress: 97.39%  Words/thread/sec: 363.80k  read/sec: 363.88k  63.79k  sec: 364.17k  99.54%  Words/thread/sec: 364.49k  "
     ]
    }
   ],
   "source": [
    "word2vec.word2vec('data/text8', 'data/text8.bin', size=100, binary=True, verbose=True)"
   ]
  },
  {
   "cell_type": "code",
   "execution_count": 6,
   "id": "8f0a4ba8",
   "metadata": {},
   "outputs": [
    {
     "name": "stdout",
     "output_type": "stream",
     "text": [
      "Running command: word2vec -train data/text8 -output data/text8-clusters.txt -size 100 -window 5 -sample 1e-3 -hs 0 -negative 5 -threads 12 -iter 5 -min-count 5 -alpha 0.025 -debug 2 -binary 0 -cbow 1 -classes 100\n",
      "Starting training using file data/text8\n",
      "Vocab size: 71291\n",
      "Words in train file: 16718843\n",
      "Alpha: 0.000002  Progress: 100.04%  Words/thread/sec: 371.87k  c: 339.77k    Progress: 1.44%  Words/thread/sec: 349.69k  5%  Words/thread/sec: 356.06k  d/sec: 356.32k   31  Progress: 3.09%  Words/thread/sec: 360.92k  .50%  Words/thread/sec: 362.70k  ead/sec: 361.32k  k  3817  Progress: 4.74%  Words/thread/sec: 366.52k   5.15%  Words/thread/sec: 365.70k  pha: 0.023620  Progress: 5.53%  Words/thread/sec: 363.20k  /thread/sec: 364.26k  ead/sec: 365.77k  sec: 366.25k  : 0.023323  Progress: 6.72%  Words/thread/sec: 366.32k  6.57k  /sec: 367.77k  026  Progress: 7.91%  Words/thread/sec: 368.13k  0.022898  Progress: 8.42%  Words/thread/sec: 367.32k  sec: 369.11k  ords/thread/sec: 368.59k   9.48%  Words/thread/sec: 369.03k  ess: 9.90%  Words/thread/sec: 369.44k  ress: 10.39%  Words/thread/sec: 370.89k  thread/sec: 369.69k  3k  pha: 0.022029  Progress: 11.90%  Words/thread/sec: 371.26k  .67k  gress: 12.57%  Words/thread/sec: 371.01k  1723  Progress: 13.12%  Words/thread/sec: 372.12k  63k  /thread/sec: 371.79k    Progress: 14.54%  Words/thread/sec: 372.41k  372.93k  rogress: 15.63%  Words/thread/sec: 373.13k  ogress: 15.95%  Words/thread/sec: 371.65k  pha: 0.020912  Progress: 16.36%  Words/thread/sec: 373.09k  sec: 372.36k  ss: 17.37%  Words/thread/sec: 372.69k   .56%  Words/thread/sec: 371.94k  ogress: 19.01%  Words/thread/sec: 371.22k  rogress: 19.42%  Words/thread/sec: 369.77k   19.74%  Words/thread/sec: 369.23k  6%  Words/thread/sec: 369.07k  lpha: 0.019774  Progress: 20.92%  Words/thread/sec: 369.05k   369.39k  21.92%  Words/thread/sec: 368.81k  read/sec: 367.93k   0.019320  Progress: 22.73%  Words/thread/sec: 367.94k  0.019243  Progress: 23.04%  Words/thread/sec: 367.54k  ess: 23.54%  Words/thread/sec: 366.69k   Progress: 24.08%  Words/thread/sec: 366.56k  .25k  ss: 25.10%  Words/thread/sec: 366.61k  018594  Progress: 25.64%  Words/thread/sec: 365.84k  0.018549  Progress: 25.82%  Words/thread/sec: 365.31k  ress: 26.28%  Words/thread/sec: 365.74k  ress: 26.58%  Words/thread/sec: 366.07k  %  Words/thread/sec: 366.52k  hread/sec: 366.30k  : 28.00%  Words/thread/sec: 366.72k  gress: 28.42%  Words/thread/sec: 366.50k  c: 367.13k  rds/thread/sec: 367.34k  gress: 29.62%  Words/thread/sec: 367.14k  ha: 0.017496  Progress: 30.03%  Words/thread/sec: 367.50k    Progress: 30.54%  Words/thread/sec: 367.32k  s: 31.04%  Words/thread/sec: 367.61k  67.88k  ad/sec: 368.05k  : 368.12k  89  Progress: 32.86%  Words/thread/sec: 368.71k  pha: 0.016709  Progress: 33.18%  Words/thread/sec: 368.88k  /thread/sec: 368.82k  0.016473  Progress: 34.12%  Words/thread/sec: 368.72k   69.02k   35.69%  Words/thread/sec: 369.59k  /thread/sec: 369.43k  : 36.20%  Words/thread/sec: 369.03k  a: 0.015809  Progress: 36.78%  Words/thread/sec: 369.82k  5  Progress: 37.31%  Words/thread/sec: 369.60k   369.74k  : 369.64k  15270  Progress: 38.96%  Words/thread/sec: 369.41k  194  Progress: 39.24%  Words/thread/sec: 370.09k  /sec: 369.26k  99%  Words/thread/sec: 369.19k  01  Progress: 40.41%  Words/thread/sec: 368.62k  k   Words/thread/sec: 369.00k   Progress: 41.88%  Words/thread/sec: 369.36k  9.13k  ds/thread/sec: 368.64k  ress: 43.28%  Words/thread/sec: 368.41k  a: 0.014080  Progress: 43.69%  Words/thread/sec: 368.60k  4.22%  Words/thread/sec: 368.39k  : 44.70%  Words/thread/sec: 368.69k  4%  Words/thread/sec: 369.31k   46.12%  Words/thread/sec: 368.91k  ha: 0.013394  Progress: 46.44%  Words/thread/sec: 369.04k  5k  ogress: 47.53%  Words/thread/sec: 369.05k   Progress: 47.94%  Words/thread/sec: 369.21k  69.29k  1  Progress: 49.03%  Words/thread/sec: 369.30k   Progress: 49.35%  Words/thread/sec: 369.30k  Words/thread/sec: 369.34k  9.33k  : 369.52k  0.012206  Progress: 51.19%  Words/thread/sec: 369.53k  a: 0.012082  Progress: 51.69%  Words/thread/sec: 369.42k  2.19%  Words/thread/sec: 369.48k  7k  71%  Words/thread/sec: 369.83k  sec: 369.69k  1%  Words/thread/sec: 369.97k   0.011447  Progress: 54.22%  Words/thread/sec: 369.87k   369.75k  55.23%  Words/thread/sec: 369.70k   Words/thread/sec: 370.33k  .09k  s/thread/sec: 369.83k  0  Progress: 57.05%  Words/thread/sec: 370.03k  ess: 57.64%  Words/thread/sec: 370.06k  Words/thread/sec: 369.99k  ress: 58.58%  Words/thread/sec: 370.03k    c: 370.18k  Progress: 59.74%  Words/thread/sec: 369.82k  72  Progress: 60.12%  Words/thread/sec: 369.82k  ds/thread/sec: 370.08k   Words/thread/sec: 370.05k  76%  Words/thread/sec: 370.13k  pha: 0.009452  Progress: 62.20%  Words/thread/sec: 369.88k  rogress: 62.58%  Words/thread/sec: 370.15k  lpha: 0.009282  Progress: 62.88%  Words/thread/sec: 370.09k  .15%  Words/thread/sec: 370.01k  c: 370.17k  ss: 64.14%  Words/thread/sec: 370.13k  824  Progress: 64.72%  Words/thread/sec: 370.11k  70.18k  0.008593  Progress: 65.69%  Words/thread/sec: 370.22k  Progress: 66.00%  Words/thread/sec: 369.98k  008402  Progress: 66.40%  Words/thread/sec: 370.01k  ec: 370.26k  %  Words/thread/sec: 370.09k   370.31k  370.23k  ords/thread/sec: 370.14k  ogress: 69.09%  Words/thread/sec: 370.40k  pha: 0.007628  Progress: 69.50%  Words/thread/sec: 370.18k  sec: 370.19k  ss: 70.51%  Words/thread/sec: 370.38k    ead/sec: 370.20k  ogress: 72.13%  Words/thread/sec: 370.20k  pha: 0.006868  Progress: 72.54%  Words/thread/sec: 370.30k  ds/thread/sec: 370.33k    Progress: 73.21%  Words/thread/sec: 370.19k  6  Progress: 73.75%  Words/thread/sec: 370.20k   370.21k   0.006172  Progress: 75.32%  Words/thread/sec: 370.32k  099  Progress: 75.74%  Words/thread/sec: 370.56k   Words/thread/sec: 370.36k   Progress: 76.32%  Words/thread/sec: 370.42k  6.79%  Words/thread/sec: 370.46k  : 370.47k   78.00%  Words/thread/sec: 370.45k  lpha: 0.005345  Progress: 78.63%  Words/thread/sec: 370.51k  005266  Progress: 79.04%  Words/thread/sec: 370.50k  44%  Words/thread/sec: 370.33k  39  Progress: 79.86%  Words/thread/sec: 370.51k  k  gress: 80.85%  Words/thread/sec: 370.59k  Progress: 81.30%  Words/thread/sec: 370.61k  0.46k  hread/sec: 370.75k  ress: 82.76%  Words/thread/sec: 370.74k  a: 0.004210  Progress: 83.17%  Words/thread/sec: 370.45k  read/sec: 370.36k  : 84.18%  Words/thread/sec: 370.35k  ds/thread/sec: 370.40k  03  Progress: 86.00%  Words/thread/sec: 370.23k  0.003378  Progress: 86.50%  Words/thread/sec: 370.33k   Progress: 87.02%  Words/thread/sec: 370.45k  003097  Progress: 87.63%  Words/thread/sec: 370.44k  /sec: 370.52k  0.53k  55k  read/sec: 370.40k  rogress: 90.47%  Words/thread/sec: 370.41k  .36k  8%  Words/thread/sec: 370.45k  pha: 0.001944  Progress: 92.24%  Words/thread/sec: 370.43k  %  Words/thread/sec: 370.50k  c: 370.48k  4.38%  Words/thread/sec: 370.16k  9.85k   6.07%  Words/thread/sec: 369.71k  6.68%  Words/thread/sec: 369.79k    : 370.23k   370.59k  Words/thread/sec: 370.98k   "
     ]
    }
   ],
   "source": [
    "word2vec.word2clusters('data/text8', 'data/text8-clusters.txt', 100, verbose=True)"
   ]
  },
  {
   "cell_type": "code",
   "execution_count": 7,
   "id": "78b5395d",
   "metadata": {},
   "outputs": [
    {
     "data": {
      "text/plain": [
       "[('moscow', 0.25986896912904944),\n",
       " ('helsinki', 0.2530996742080841),\n",
       " ('transylvania', 0.24732410867758664),\n",
       " ('lisbon', 0.24307889184332634),\n",
       " ('budapest', 0.23969813994065076),\n",
       " ('brussels', 0.23936211016749334),\n",
       " ('maastricht', 0.2378225467896571),\n",
       " ('barcelona', 0.2377368318747351),\n",
       " ('riga', 0.2368873845328407),\n",
       " ('munich', 0.2365320948381142)]"
      ]
     },
     "execution_count": 7,
     "metadata": {},
     "output_type": "execute_result"
    }
   ],
   "source": [
    "model = word2vec.load('data/text8.bin')\n",
    "indexes, metrics = model.analogy(pos=[\"beijing\", \"russia\"], neg=[\"china\"])\n",
    "model.generate_response(indexes, metrics).tolist()"
   ]
  },
  {
   "cell_type": "code",
   "execution_count": null,
   "id": "580528db",
   "metadata": {},
   "outputs": [],
   "source": []
  }
 ],
 "metadata": {
  "kernelspec": {
   "display_name": "Python 3 (ipykernel)",
   "language": "python",
   "name": "python3"
  },
  "language_info": {
   "codemirror_mode": {
    "name": "ipython",
    "version": 3
   },
   "file_extension": ".py",
   "mimetype": "text/x-python",
   "name": "python",
   "nbconvert_exporter": "python",
   "pygments_lexer": "ipython3",
   "version": "3.8.12"
  },
  "vscode": {
   "interpreter": {
    "hash": "528ef8bef0bea82cd0ba4f022aea96994542db39a47a3a8c787d7c0de1b2affe"
   }
  }
 },
 "nbformat": 4,
 "nbformat_minor": 5
}
